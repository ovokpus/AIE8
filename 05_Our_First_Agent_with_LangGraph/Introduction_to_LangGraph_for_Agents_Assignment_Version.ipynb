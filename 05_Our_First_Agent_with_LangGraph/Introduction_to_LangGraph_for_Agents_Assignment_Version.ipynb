{
  "cells": [
    {
      "cell_type": "markdown",
      "metadata": {
        "id": "gJXW_DgiSebM"
      },
      "source": [
        "# LangGraph and LangSmith - Agentic RAG Powered by LangChain\n",
        "\n",
        "In the following notebook we'll complete the following tasks:\n",
        "\n",
        "- 🤝 Breakout Room #1:\n",
        "  1. Install required libraries\n",
        "  2. Set Environment Variables\n",
        "  3. Creating our Tool Belt\n",
        "  4. Creating Our State\n",
        "  5. Creating and Compiling A Graph!\n",
        "\n",
        "- 🤝 Breakout Room #2:\n",
        "  1. Evaluating the LangGraph Application with LangSmith\n",
        "  2. Adding Helpfulness Check and \"Loop\" Limits\n",
        "  3. LangGraph for the \"Patterns\" of GenAI"
      ]
    },
    {
      "cell_type": "markdown",
      "metadata": {
        "id": "djQ3nRAgoF67"
      },
      "source": [
        "# 🤝 Breakout Room #1"
      ]
    },
    {
      "cell_type": "markdown",
      "metadata": {
        "id": "e7pQDUhUnIo8"
      },
      "source": [
        "## Part 1: LangGraph - Building Cyclic Applications with LangChain\n",
        "\n",
        "LangGraph is a tool that leverages LangChain Expression Language to build coordinated multi-actor and stateful applications that includes cyclic behaviour.\n",
        "\n",
        "### Why Cycles?\n",
        "\n",
        "In essence, we can think of a cycle in our graph as a more robust and customizable loop. It allows us to keep our application agent-forward while still giving the powerful functionality of traditional loops.\n",
        "\n",
        "Due to the inclusion of cycles over loops, we can also compose rather complex flows through our graph in a much more readable and natural fashion. Effectively allowing us to recreate application flowcharts in code in an almost 1-to-1 fashion.\n",
        "\n",
        "### Why LangGraph?\n",
        "\n",
        "Beyond the agent-forward approach - we can easily compose and combine traditional \"DAG\" (directed acyclic graph) chains with powerful cyclic behaviour due to the tight integration with LCEL. This means it's a natural extension to LangChain's core offerings!"
      ]
    },
    {
      "cell_type": "markdown",
      "metadata": {
        "id": "3_fLDElOVoop"
      },
      "source": [
        "## Task 1:  Dependencies\n"
      ]
    },
    {
      "cell_type": "markdown",
      "metadata": {
        "id": "wujPjGJuoPwg"
      },
      "source": [
        "## Task 2: Environment Variables\n",
        "\n",
        "We'll want to set both our OpenAI API key and our LangSmith environment variables."
      ]
    },
    {
      "cell_type": "code",
      "execution_count": 1,
      "metadata": {
        "colab": {
          "base_uri": "https://localhost:8080/"
        },
        "id": "Jdh8CoVWHRvs",
        "outputId": "3fa78560-393c-4ee5-b871-9886bf0d70f4"
      },
      "outputs": [],
      "source": [
        "import os\n",
        "import getpass\n",
        "\n",
        "os.environ[\"OPENAI_API_KEY\"] = getpass.getpass(\"OpenAI API Key:\")"
      ]
    },
    {
      "cell_type": "code",
      "execution_count": 2,
      "metadata": {
        "colab": {
          "base_uri": "https://localhost:8080/"
        },
        "id": "Jkla2fpx28QK",
        "outputId": "52d7ad22-fcb1-4abe-853b-216c55a12650"
      },
      "outputs": [],
      "source": [
        "os.environ[\"TAVILY_API_KEY\"] = getpass.getpass(\"TAVILY_API_KEY\")"
      ]
    },
    {
      "cell_type": "code",
      "execution_count": 4,
      "metadata": {
        "colab": {
          "base_uri": "https://localhost:8080/"
        },
        "id": "Nv0glIDyHmRt",
        "outputId": "b69df90a-b4e1-4ddb-9de0-882d98b68ab2"
      },
      "outputs": [],
      "source": [
        "from uuid import uuid4\n",
        "\n",
        "os.environ[\"LANGCHAIN_TRACING_V2\"] = \"true\"\n",
        "os.environ[\"LANGCHAIN_PROJECT\"] = f\"AIE8 - LangGraph - {uuid4().hex[0:8]}\"\n",
        "os.environ[\"LANGCHAIN_API_KEY\"] = getpass.getpass(\"LangSmith API Key: \")"
      ]
    },
    {
      "cell_type": "markdown",
      "metadata": {
        "id": "sBRyQmEAVzua"
      },
      "source": [
        "## Task 3: Creating our Tool Belt\n",
        "\n",
        "As is usually the case, we'll want to equip our agent with a toolbelt to help answer questions and add external knowledge.\n",
        "\n",
        "There's a tonne of tools in the [LangChain Community Repo](https://github.com/langchain-ai/langchain-community/tree/main/libs/community) but we'll stick to a couple just so we can observe the cyclic nature of LangGraph in action!\n",
        "\n",
        "We'll leverage:\n",
        "\n",
        "- [Tavily Search Results](https://github.com/langchain-ai/langchain-community/blob/main/libs/community/langchain_community/tools/tavily_search/tool.py)\n",
        "- [Arxiv](https://github.com/langchain-ai/langchain-community/blob/main/libs/community/langchain_community/tools/arxiv/tool.py)"
      ]
    },
    {
      "cell_type": "markdown",
      "metadata": {
        "id": "2k6n_Dob2F46"
      },
      "source": [
        "#### 🏗️ Activity #1:\n",
        "\n",
        "Please add the tools to use into our toolbelt.\n",
        "\n",
        "> NOTE: Each tool in our toolbelt should be a method."
      ]
    },
    {
      "cell_type": "code",
      "execution_count": 7,
      "metadata": {
        "id": "lAxaSvlfIeOg"
      },
      "outputs": [],
      "source": [
        "from langchain_community.tools.tavily_search import TavilySearchResults\n",
        "from langchain_community.tools.arxiv.tool import ArxivQueryRun\n",
        "\n",
        "tavily_tool = TavilySearchResults(max_results=5)\n",
        "\n",
        "tool_belt = [\n",
        "    tavily_tool,\n",
        "    ArxivQueryRun(),\n",
        "]"
      ]
    },
    {
      "cell_type": "markdown",
      "metadata": {
        "id": "VI-C669ZYVI5"
      },
      "source": [
        "### Model\n",
        "\n",
        "Now we can set-up our model! We'll leverage the familiar OpenAI model suite for this example - but it's not *necessary* to use with LangGraph. LangGraph supports all models - though you might not find success with smaller models - as such, they recommend you stick with:\n",
        "\n",
        "- OpenAI's GPT-3.5 and GPT-4\n",
        "- Anthropic's Claude\n",
        "- Google's Gemini\n",
        "\n",
        "> NOTE: Because we're leveraging the OpenAI function calling API - we'll need to use OpenAI *for this specific example* (or any other service that exposes an OpenAI-style function calling API."
      ]
    },
    {
      "cell_type": "code",
      "execution_count": 8,
      "metadata": {
        "id": "QkNS8rNZJs4z"
      },
      "outputs": [],
      "source": [
        "from langchain_openai import ChatOpenAI\n",
        "\n",
        "model = ChatOpenAI(model=\"gpt-4.1-nano\", temperature=0)"
      ]
    },
    {
      "cell_type": "markdown",
      "metadata": {
        "id": "Ugkj3GzuZpQv"
      },
      "source": [
        "Now that we have our model set-up, let's \"put on the tool belt\", which is to say: We'll bind our LangChain formatted tools to the model in an OpenAI function calling format."
      ]
    },
    {
      "cell_type": "code",
      "execution_count": 9,
      "metadata": {
        "id": "4OdMqFafZ_0V"
      },
      "outputs": [],
      "source": [
        "model = model.bind_tools(tool_belt)"
      ]
    },
    {
      "cell_type": "markdown",
      "metadata": {
        "id": "ERzuGo6W18Lr"
      },
      "source": [
        "#### ❓ Question #1:\n",
        "\n",
        "How does the model determine which tool to use?"
      ]
    },
    {
      "cell_type": "markdown",
      "metadata": {
        "id": "_296Ub96Z_H8"
      },
      "source": [
        "## Task 4: Putting the State in Stateful\n",
        "\n",
        "Earlier we used this phrasing:\n",
        "\n",
        "`coordinated multi-actor and stateful applications`\n",
        "\n",
        "So what does that \"stateful\" mean?\n",
        "\n",
        "To put it simply - we want to have some kind of object which we can pass around our application that holds information about what the current situation (state) is. Since our system will be constructed of many parts moving in a coordinated fashion - we want to be able to ensure we have some commonly understood idea of that state.\n",
        "\n",
        "LangGraph leverages a `StatefulGraph` which uses an `AgentState` object to pass information between the various nodes of the graph.\n",
        "\n",
        "There are more options than what we'll see below - but this `AgentState` object is one that is stored in a `TypedDict` with the key `messages` and the value is a `Sequence` of `BaseMessages` that will be appended to whenever the state changes.\n",
        "\n",
        "Let's think about a simple example to help understand exactly what this means (we'll simplify a great deal to try and clearly communicate what state is doing):\n",
        "\n",
        "1. We initialize our state object:\n",
        "  - `{\"messages\" : []}`\n",
        "2. Our user submits a query to our application.\n",
        "  - New State: `HumanMessage(#1)`\n",
        "  - `{\"messages\" : [HumanMessage(#1)}`\n",
        "3. We pass our state object to an Agent node which is able to read the current state. It will use the last `HumanMessage` as input. It gets some kind of output which it will add to the state.\n",
        "  - New State: `AgentMessage(#1, additional_kwargs {\"function_call\" : \"WebSearchTool\"})`\n",
        "  - `{\"messages\" : [HumanMessage(#1), AgentMessage(#1, ...)]}`\n",
        "4. We pass our state object to a \"conditional node\" (more on this later) which reads the last state to determine if we need to use a tool - which it can determine properly because of our provided object!"
      ]
    },
    {
      "cell_type": "code",
      "execution_count": 10,
      "metadata": {
        "id": "mxL9b_NZKUdL"
      },
      "outputs": [],
      "source": [
        "from typing import TypedDict, Annotated\n",
        "from langgraph.graph.message import add_messages\n",
        "import operator\n",
        "from langchain_core.messages import BaseMessage\n",
        "\n",
        "class AgentState(TypedDict):\n",
        "  messages: Annotated[list, add_messages]"
      ]
    },
    {
      "cell_type": "markdown",
      "metadata": {
        "id": "vWsMhfO9grLu"
      },
      "source": [
        "## Task 5: It's Graphing Time!\n",
        "\n",
        "Now that we have state, and we have tools, and we have an LLM - we can finally start making our graph!\n",
        "\n",
        "Let's take a second to refresh ourselves about what a graph is in this context.\n",
        "\n",
        "Graphs, also called networks in some circles, are a collection of connected objects.\n",
        "\n",
        "The objects in question are typically called nodes, or vertices, and the connections are called edges.\n",
        "\n",
        "Let's look at a simple graph.\n",
        "\n",
        "![image](https://i.imgur.com/2NFLnIc.png)\n",
        "\n",
        "Here, we're using the coloured circles to represent the nodes and the yellow lines to represent the edges. In this case, we're looking at a fully connected graph - where each node is connected by an edge to each other node.\n",
        "\n",
        "If we were to think about nodes in the context of LangGraph - we would think of a function, or an LCEL runnable.\n",
        "\n",
        "If we were to think about edges in the context of LangGraph - we might think of them as \"paths to take\" or \"where to pass our state object next\".\n",
        "\n",
        "Let's create some nodes and expand on our diagram.\n",
        "\n",
        "> NOTE: Due to the tight integration with LCEL - we can comfortably create our nodes in an async fashion!"
      ]
    },
    {
      "cell_type": "code",
      "execution_count": 11,
      "metadata": {
        "id": "91flJWtZLUrl"
      },
      "outputs": [],
      "source": [
        "from langgraph.prebuilt import ToolNode\n",
        "\n",
        "def call_model(state):\n",
        "  messages = state[\"messages\"]\n",
        "  response = model.invoke(messages)\n",
        "  return {\"messages\" : [response]}\n",
        "\n",
        "tool_node = ToolNode(tool_belt)"
      ]
    },
    {
      "cell_type": "markdown",
      "metadata": {
        "id": "2bwR7MgWj3Wg"
      },
      "source": [
        "Now we have two total nodes. We have:\n",
        "\n",
        "- `call_model` is a node that will...well...call the model\n",
        "- `tool_node` is a node which can call a tool\n",
        "\n",
        "Let's start adding nodes! We'll update our diagram along the way to keep track of what this looks like!\n"
      ]
    },
    {
      "cell_type": "code",
      "execution_count": 12,
      "metadata": {
        "colab": {
          "base_uri": "https://localhost:8080/"
        },
        "id": "_vF4_lgtmQNo",
        "outputId": "a4384377-8f7a-415f-be1b-fee6169cb101"
      },
      "outputs": [
        {
          "data": {
            "text/plain": [
              "<langgraph.graph.state.StateGraph at 0x7eb6f20ebe00>"
            ]
          },
          "execution_count": 12,
          "metadata": {},
          "output_type": "execute_result"
        }
      ],
      "source": [
        "from langgraph.graph import StateGraph, END\n",
        "\n",
        "uncompiled_graph = StateGraph(AgentState)\n",
        "\n",
        "uncompiled_graph.add_node(\"agent\", call_model)\n",
        "uncompiled_graph.add_node(\"action\", tool_node)"
      ]
    },
    {
      "cell_type": "markdown",
      "metadata": {
        "id": "b8CjRlbVmRpW"
      },
      "source": [
        "Let's look at what we have so far:\n",
        "\n",
        "![image](https://i.imgur.com/md7inqG.png)"
      ]
    },
    {
      "cell_type": "markdown",
      "metadata": {
        "id": "uaXHpPeSnOWC"
      },
      "source": [
        "Next, we'll add our entrypoint. All our entrypoint does is indicate which node is called first."
      ]
    },
    {
      "cell_type": "code",
      "execution_count": 13,
      "metadata": {
        "colab": {
          "base_uri": "https://localhost:8080/"
        },
        "id": "YGCbaYqRnmiw",
        "outputId": "5351807c-2ac7-4316-a3a3-878abeacd114"
      },
      "outputs": [
        {
          "data": {
            "text/plain": [
              "<langgraph.graph.state.StateGraph at 0x7eb6f20ebe00>"
            ]
          },
          "execution_count": 13,
          "metadata": {},
          "output_type": "execute_result"
        }
      ],
      "source": [
        "uncompiled_graph.set_entry_point(\"agent\")"
      ]
    },
    {
      "cell_type": "markdown",
      "metadata": {
        "id": "BUsfGoSpoF9U"
      },
      "source": [
        "![image](https://i.imgur.com/wNixpJe.png)"
      ]
    },
    {
      "cell_type": "markdown",
      "metadata": {
        "id": "0Q_pQgHmoW0M"
      },
      "source": [
        "Now we want to build a \"conditional edge\" which will use the output state of a node to determine which path to follow.\n",
        "\n",
        "We can help conceptualize this by thinking of our conditional edge as a conditional in a flowchart!\n",
        "\n",
        "Notice how our function simply checks if there is a \"function_call\" kwarg present.\n",
        "\n",
        "Then we create an edge where the origin node is our agent node and our destination node is *either* the action node or the END (finish the graph).\n",
        "\n",
        "It's important to highlight that the dictionary passed in as the third parameter (the mapping) should be created with the possible outputs of our conditional function in mind. In this case `should_continue` outputs either `\"end\"` or `\"continue\"` which are subsequently mapped to the action node or the END node."
      ]
    },
    {
      "cell_type": "code",
      "execution_count": 14,
      "metadata": {
        "colab": {
          "base_uri": "https://localhost:8080/"
        },
        "id": "1BZgb81VQf9o",
        "outputId": "73a07c15-5f0b-40f2-b033-38b57d056dd8"
      },
      "outputs": [
        {
          "data": {
            "text/plain": [
              "<langgraph.graph.state.StateGraph at 0x7eb6f20ebe00>"
            ]
          },
          "execution_count": 14,
          "metadata": {},
          "output_type": "execute_result"
        }
      ],
      "source": [
        "def should_continue(state):\n",
        "  last_message = state[\"messages\"][-1]\n",
        "\n",
        "  if last_message.tool_calls:\n",
        "    return \"action\"\n",
        "\n",
        "  return END\n",
        "\n",
        "uncompiled_graph.add_conditional_edges(\n",
        "    \"agent\",\n",
        "    should_continue\n",
        ")"
      ]
    },
    {
      "cell_type": "markdown",
      "metadata": {
        "id": "-Cvhcf4jp0Ce"
      },
      "source": [
        "Let's visualize what this looks like.\n",
        "\n",
        "![image](https://i.imgur.com/8ZNwKI5.png)"
      ]
    },
    {
      "cell_type": "markdown",
      "metadata": {
        "id": "yKCjWJCkrJb9"
      },
      "source": [
        "Finally, we can add our last edge which will connect our action node to our agent node. This is because we *always* want our action node (which is used to call our tools) to return its output to our agent!"
      ]
    },
    {
      "cell_type": "code",
      "execution_count": 15,
      "metadata": {
        "colab": {
          "base_uri": "https://localhost:8080/"
        },
        "id": "UvcgbHf1rIXZ",
        "outputId": "45d4bdd6-d6bb-4a1d-bb79-cad43c130bf2"
      },
      "outputs": [
        {
          "data": {
            "text/plain": [
              "<langgraph.graph.state.StateGraph at 0x7eb6f20ebe00>"
            ]
          },
          "execution_count": 15,
          "metadata": {},
          "output_type": "execute_result"
        }
      ],
      "source": [
        "uncompiled_graph.add_edge(\"action\", \"agent\")"
      ]
    },
    {
      "cell_type": "markdown",
      "metadata": {
        "id": "EiWDwBQtrw7Z"
      },
      "source": [
        "Let's look at the final visualization.\n",
        "\n",
        "![image](https://i.imgur.com/NWO7usO.png)"
      ]
    },
    {
      "cell_type": "markdown",
      "metadata": {
        "id": "KYqDpErlsCsu"
      },
      "source": [
        "All that's left to do now is to compile our workflow - and we're off!"
      ]
    },
    {
      "cell_type": "code",
      "execution_count": 16,
      "metadata": {
        "id": "zt9-KS8DpzNx"
      },
      "outputs": [],
      "source": [
        "simple_agent_graph = uncompiled_graph.compile()"
      ]
    },
    {
      "cell_type": "markdown",
      "metadata": {
        "id": "xhNWIwBL1W4Q"
      },
      "source": [
        "#### ❓ Question #2:\n",
        "\n",
        "Is there any specific limit to how many times we can cycle?\n",
        "\n",
        "If not, how could we impose a limit to the number of cycles?"
      ]
    },
    {
      "cell_type": "markdown",
      "metadata": {
        "id": "VEYcTShCsPaa"
      },
      "source": [
        "## Using Our Graph\n",
        "\n",
        "Now that we've created and compiled our graph - we can call it *just as we'd call any other* `Runnable`!\n",
        "\n",
        "Let's try out a few examples to see how it fairs:"
      ]
    },
    {
      "cell_type": "code",
      "execution_count": 17,
      "metadata": {
        "colab": {
          "base_uri": "https://localhost:8080/"
        },
        "id": "Qn4n37PQRPII",
        "outputId": "5eeedfae-089d-496e-e71f-071939fa5832"
      },
      "outputs": [
        {
          "name": "stdout",
          "output_type": "stream",
          "text": [
            "Receiving update from node: 'agent'\n",
            "[AIMessage(content='', additional_kwargs={'tool_calls': [{'id': 'call_1amGw2Uel93gffjKKilZw7DP', 'function': {'arguments': '{\"query\":\"current captain of the Winnipeg Jets\"}', 'name': 'tavily_search_results_json'}, 'type': 'function'}], 'refusal': None}, response_metadata={'token_usage': {'completion_tokens': 23, 'prompt_tokens': 162, 'total_tokens': 185, 'completion_tokens_details': {'accepted_prediction_tokens': 0, 'audio_tokens': 0, 'reasoning_tokens': 0, 'rejected_prediction_tokens': 0}, 'prompt_tokens_details': {'audio_tokens': 0, 'cached_tokens': 0}}, 'model_name': 'gpt-4.1-nano-2025-04-14', 'system_fingerprint': 'fp_7c233bf9d1', 'id': 'chatcmpl-CIhDIvow458HPd8BiOvzTgTLINMS4', 'service_tier': 'default', 'finish_reason': 'tool_calls', 'logprobs': None}, id='run--a94da4b9-fce1-409a-bc6e-4259491014fc-0', tool_calls=[{'name': 'tavily_search_results_json', 'args': {'query': 'current captain of the Winnipeg Jets'}, 'id': 'call_1amGw2Uel93gffjKKilZw7DP', 'type': 'tool_call'}], usage_metadata={'input_tokens': 162, 'output_tokens': 23, 'total_tokens': 185, 'input_token_details': {'audio': 0, 'cache_read': 0}, 'output_token_details': {'audio': 0, 'reasoning': 0}})]\n",
            "\n",
            "\n",
            "\n",
            "Receiving update from node: 'action'\n",
            "[ToolMessage(content='[{\"title\": \"Adam Lowry - Wikipedia\", \"url\": \"https://en.wikipedia.org/wiki/Adam_Lowry\", \"content\": \"| Awards and achievements | | |\\\\n --- \\\\n| Preceded by Stefan Elliott | Winner of the Daryl K. (Doc) Seaman Trophy_Seaman_Trophy \\\\\"Daryl K. (Doc) Seaman Trophy\\\\\")  2010 | Succeeded by Colin Smith \\\\\"Colin Smith (ice hockey)\\\\\") |\\\\n| Sporting positions | | |\\\\n| Preceded by Blake Wheeler | Winnipeg Jets captain  2023–present | Incumbent | [...] Adam Lowry (born March 29, 1993) is an American-born Canadian professional ice hockey centre \\\\\"Center (ice hockey)\\\\\") and  captain \\\\\"Captain (ice hockey)\\\\\") of the Winnipeg Jets of the National Hockey League (NHL).\\\\n\\\\n## Early life [...] Entering the 2023–24 season, Lowry was named captain of the Jets on September 12, 2023. He became the third in the team\\'s history since relocating to Winnipeg, and the tenth overall in franchise history.\\\\n\\\\nOn May 4, 2025, Lowry scored at 16:10 in double overtime to win 4-3 against the St. Louis Blues in Game 7 of the Jets-Blues first round playoff series.\\\\n\\\\n## Personal life\", \"score\": 0.8512743}, {\"title\": \"Adam Lowry named Jets captain | Winnipeg Jets - NHL.com\", \"url\": \"https://www.nhl.com/jets/news/adam-lowry-named-jets-captain\", \"content\": \"That honour was given to Winnipeg Jet forward Adam Lowry officially Tuesday morning as he becomes the third captain in franchise history since the team moved here from Atlanta. He follows Andrew Ladd and Blake Wheeler who served as captain for five and six years respectively.\\\\n\\\\n“When I found out, I was pretty excited, almost a little speechless. It’s something growing up you kind of can dream about and something that seems almost unattainable,” said Lowry. [...] “He’s a true professional, he has total respect from every player on the team, every player around the league and certainly from the coaching staff as well. We just feel at this point it’s the right time to name Adam as our captain.” [...] The 30-year-old wore an “A” for the first time in 2022-23 along with Josh Morrissey and Mark Scheifele who will both serve as alternates for the team this year. The Jets didn’t have a captain last season as head coach Rick Bowness and his staff wanted more voices in the dressing room.\\\\n\\\\n“It went well last year. Mark, Adam and Josh did a great job in the room which is what we wanted. We all know Adam is the first guy on the ice to stick up for his teammates,” said Bowness.\", \"score\": 0.8443195}, {\"title\": \"Winnipeg Jets start training camp with high expectations\", \"url\": \"https://globalnews.ca/news/11435930/winnipeg-jets-start-training-camp-with-high-expectations/\", \"content\": \"Training camp had barely even begun when the talk shifted to next summer. Jets captain Adam Lowry and sniper Kyle Connor are both entering the final season of their contracts and are scheduled to become unrestricted free agents next July.\\\\n\\\\nGeneral manager Kevin Cheveldayoff said he would have liked to have Connor’s contract done yesterday. [...] “We’ve had great dialogue with KC’s representatives and continue to have that,” he said. “He’s a big part. Adam’s a big part. We had great success as a group and we’d like to keep on pushing forward.\\\\n\\\\n“Every conversation you’re kinda hopeful that this is the one that closes it.”\\\\n\\\\nConnor is making an average of $7.1 million on his current seven-year deal and is due for a raise after leading the club in goals and assists last season with 41 markers and 56 helpers for a career-best 97 points. [...] Scheifele is a big fan of the moves they made over the summer but admitted you can’t easily replace a player like Nikolaj Ehlers who signed with the Carolina Hurricanes.\\\\n\\\\nScheifele looked up to his new teammate Jonathan Toews as a youngster and still remembers meeting Toews when he went out for dinner with then Jets captain Andrew Ladd when Scheifele was just a fresh-faced 18-year-old on his first NHL road trip.\", \"score\": 0.7760977}, {\"title\": \"Team Captains of Winnipeg Jets - Elite Prospects\", \"url\": \"https://www.eliteprospects.com/team/9966/winnipeg-jets/captaincy-history\", \"content\": \"| Season | League | “C” Captain(s) | “A” Alternate Captain(s) |\\\\n ---  --- |\\\\n| 2025-2026  2025-26 | NHL | Adam Lowry |  |\\\\n| 2024-2025  2024-25 | NHL | Adam Lowry | Josh Morrissey  Neal Pionk  Mark Scheifele |\\\\n| 2023-2024  2023-24 | NHL | Adam Lowry | Josh Morrissey  Mark Scheifele |\\\\n| 2022-2023  2022-23 | NHL |  | Adam Lowry  Josh Morrissey  Mark Scheifele |\\\\n| 2021-2022  2021-22 | NHL | Blake Wheeler | Josh Morrissey  Mark Scheifele | [...] | Sweden Lawrence Pilut (D) | NL |\\\\n| Canada Orca Wiesblatt (F) | FPHL |\\\\n| Finland Jesse Puljujärvi (F) | NL |\\\\n| Sweden Linus Hedlund (F) | HockeyEttan |\\\\n| Canada Emmitt Finnie (F) | AHL |\\\\n| Finland Atro Leppänen (D) | AHL |\\\\n| Canada Charle-Édouard D\\'Astous (D) | AHL | [...] | 2020-2021  2020-21 | NHL | Blake Wheeler | Josh Morrissey  Mark Scheifele |\\\\n| 2019-2020  2019-20 | NHL | Blake Wheeler | Mark Scheifele  Bryan Little  Josh Morrissey |\\\\n| 2018-2019  2018-19 | NHL | Blake Wheeler | Mark Scheifele  Bryan Little  Dustin Byfuglien |\\\\n| 2017-2018  2017-18 | NHL | Blake Wheeler | Dustin Byfuglien  Bryan Little  Mark Scheifele |\\\\n| 2016-2017  2016-17 | NHL | Blake Wheeler | Dustin Byfuglien  Mark Scheifele |\", \"score\": 0.7621591}, {\"title\": \"Toews finds \\'new experience\\' returning to ice with Jets | NHL.com\", \"url\": \"https://www.nhl.com/news/jonathan-toews-returns-to-ice-with-winnipeg-jets\", \"content\": \"“We all jumped at the thought of having a player like Jonathan even consider Winnipeg,” Jets captain Adam Lowry said Thursday. “It’s a huge deal and it means a lot to the guys in the room. We feel like we’re a good team and we’re really pushing. To have him consider us as one of those contenders and one of those teams he believes in -- a smaller market and generally a market most people don’t consider coming to -- I think it’s a testament to his belief in our group and it was nice to see when [...] “It’s been a lot of fun slowly getting to know guys, that’s something that I’ll take a little while to get settled and comfortable in the locker room,” Toews said. “In a way you want show your respects, especially to the veteran guys in this locker room that set the tone and the example for this team every day. I want to slowly find my way and contribute where I can and find ways to earn that respect and my stripes with this group too.”\", \"score\": 0.70580584}]', name='tavily_search_results_json', id='fe579509-7eb6-45d3-bab8-c04a625a096b', tool_call_id='call_1amGw2Uel93gffjKKilZw7DP', artifact={'query': 'current captain of the Winnipeg Jets', 'follow_up_questions': None, 'answer': None, 'images': [], 'results': [{'url': 'https://en.wikipedia.org/wiki/Adam_Lowry', 'title': 'Adam Lowry - Wikipedia', 'content': '| Awards and achievements | | |\\n --- \\n| Preceded by Stefan Elliott | Winner of the Daryl K. (Doc) Seaman Trophy_Seaman_Trophy \"Daryl K. (Doc) Seaman Trophy\")  2010 | Succeeded by Colin Smith \"Colin Smith (ice hockey)\") |\\n| Sporting positions | | |\\n| Preceded by Blake Wheeler | Winnipeg Jets captain  2023–present | Incumbent | [...] Adam Lowry (born March 29, 1993) is an American-born Canadian professional ice hockey centre \"Center (ice hockey)\") and  captain \"Captain (ice hockey)\") of the Winnipeg Jets of the National Hockey League (NHL).\\n\\n## Early life [...] Entering the 2023–24 season, Lowry was named captain of the Jets on September 12, 2023. He became the third in the team\\'s history since relocating to Winnipeg, and the tenth overall in franchise history.\\n\\nOn May 4, 2025, Lowry scored at 16:10 in double overtime to win 4-3 against the St. Louis Blues in Game 7 of the Jets-Blues first round playoff series.\\n\\n## Personal life', 'score': 0.8512743, 'raw_content': None}, {'url': 'https://www.nhl.com/jets/news/adam-lowry-named-jets-captain', 'title': 'Adam Lowry named Jets captain | Winnipeg Jets - NHL.com', 'content': 'That honour was given to Winnipeg Jet forward Adam Lowry officially Tuesday morning as he becomes the third captain in franchise history since the team moved here from Atlanta. He follows Andrew Ladd and Blake Wheeler who served as captain for five and six years respectively.\\n\\n“When I found out, I was pretty excited, almost a little speechless. It’s something growing up you kind of can dream about and something that seems almost unattainable,” said Lowry. [...] “He’s a true professional, he has total respect from every player on the team, every player around the league and certainly from the coaching staff as well. We just feel at this point it’s the right time to name Adam as our captain.” [...] The 30-year-old wore an “A” for the first time in 2022-23 along with Josh Morrissey and Mark Scheifele who will both serve as alternates for the team this year. The Jets didn’t have a captain last season as head coach Rick Bowness and his staff wanted more voices in the dressing room.\\n\\n“It went well last year. Mark, Adam and Josh did a great job in the room which is what we wanted. We all know Adam is the first guy on the ice to stick up for his teammates,” said Bowness.', 'score': 0.8443195, 'raw_content': None}, {'url': 'https://globalnews.ca/news/11435930/winnipeg-jets-start-training-camp-with-high-expectations/', 'title': 'Winnipeg Jets start training camp with high expectations', 'content': 'Training camp had barely even begun when the talk shifted to next summer. Jets captain Adam Lowry and sniper Kyle Connor are both entering the final season of their contracts and are scheduled to become unrestricted free agents next July.\\n\\nGeneral manager Kevin Cheveldayoff said he would have liked to have Connor’s contract done yesterday. [...] “We’ve had great dialogue with KC’s representatives and continue to have that,” he said. “He’s a big part. Adam’s a big part. We had great success as a group and we’d like to keep on pushing forward.\\n\\n“Every conversation you’re kinda hopeful that this is the one that closes it.”\\n\\nConnor is making an average of $7.1 million on his current seven-year deal and is due for a raise after leading the club in goals and assists last season with 41 markers and 56 helpers for a career-best 97 points. [...] Scheifele is a big fan of the moves they made over the summer but admitted you can’t easily replace a player like Nikolaj Ehlers who signed with the Carolina Hurricanes.\\n\\nScheifele looked up to his new teammate Jonathan Toews as a youngster and still remembers meeting Toews when he went out for dinner with then Jets captain Andrew Ladd when Scheifele was just a fresh-faced 18-year-old on his first NHL road trip.', 'score': 0.7760977, 'raw_content': None}, {'url': 'https://www.eliteprospects.com/team/9966/winnipeg-jets/captaincy-history', 'title': 'Team Captains of Winnipeg Jets - Elite Prospects', 'content': \"| Season | League | “C” Captain(s) | “A” Alternate Captain(s) |\\n ---  --- |\\n| 2025-2026  2025-26 | NHL | Adam Lowry |  |\\n| 2024-2025  2024-25 | NHL | Adam Lowry | Josh Morrissey  Neal Pionk  Mark Scheifele |\\n| 2023-2024  2023-24 | NHL | Adam Lowry | Josh Morrissey  Mark Scheifele |\\n| 2022-2023  2022-23 | NHL |  | Adam Lowry  Josh Morrissey  Mark Scheifele |\\n| 2021-2022  2021-22 | NHL | Blake Wheeler | Josh Morrissey  Mark Scheifele | [...] | Sweden Lawrence Pilut (D) | NL |\\n| Canada Orca Wiesblatt (F) | FPHL |\\n| Finland Jesse Puljujärvi (F) | NL |\\n| Sweden Linus Hedlund (F) | HockeyEttan |\\n| Canada Emmitt Finnie (F) | AHL |\\n| Finland Atro Leppänen (D) | AHL |\\n| Canada Charle-Édouard D'Astous (D) | AHL | [...] | 2020-2021  2020-21 | NHL | Blake Wheeler | Josh Morrissey  Mark Scheifele |\\n| 2019-2020  2019-20 | NHL | Blake Wheeler | Mark Scheifele  Bryan Little  Josh Morrissey |\\n| 2018-2019  2018-19 | NHL | Blake Wheeler | Mark Scheifele  Bryan Little  Dustin Byfuglien |\\n| 2017-2018  2017-18 | NHL | Blake Wheeler | Dustin Byfuglien  Bryan Little  Mark Scheifele |\\n| 2016-2017  2016-17 | NHL | Blake Wheeler | Dustin Byfuglien  Mark Scheifele |\", 'score': 0.7621591, 'raw_content': None}, {'url': 'https://www.nhl.com/news/jonathan-toews-returns-to-ice-with-winnipeg-jets', 'title': \"Toews finds 'new experience' returning to ice with Jets | NHL.com\", 'content': '“We all jumped at the thought of having a player like Jonathan even consider Winnipeg,” Jets captain Adam Lowry said Thursday. “It’s a huge deal and it means a lot to the guys in the room. We feel like we’re a good team and we’re really pushing. To have him consider us as one of those contenders and one of those teams he believes in -- a smaller market and generally a market most people don’t consider coming to -- I think it’s a testament to his belief in our group and it was nice to see when [...] “It’s been a lot of fun slowly getting to know guys, that’s something that I’ll take a little while to get settled and comfortable in the locker room,” Toews said. “In a way you want show your respects, especially to the veteran guys in this locker room that set the tone and the example for this team every day. I want to slowly find my way and contribute where I can and find ways to earn that respect and my stripes with this group too.”', 'score': 0.70580584, 'raw_content': None}], 'response_time': 4.22, 'request_id': '6762bebe-c066-4d19-b3bb-8498ba5e36c6'})]\n",
            "\n",
            "\n",
            "\n",
            "Receiving update from node: 'agent'\n",
            "[AIMessage(content='The current captain of the Winnipeg Jets is Adam Lowry.', additional_kwargs={'refusal': None}, response_metadata={'token_usage': {'completion_tokens': 13, 'prompt_tokens': 1926, 'total_tokens': 1939, 'completion_tokens_details': {'accepted_prediction_tokens': 0, 'audio_tokens': 0, 'reasoning_tokens': 0, 'rejected_prediction_tokens': 0}, 'prompt_tokens_details': {'audio_tokens': 0, 'cached_tokens': 0}}, 'model_name': 'gpt-4.1-nano-2025-04-14', 'system_fingerprint': 'fp_7c233bf9d1', 'id': 'chatcmpl-CIhDOv6FqJZGC99LMHMO86noLISSn', 'service_tier': 'default', 'finish_reason': 'stop', 'logprobs': None}, id='run--fb6e0cb4-781a-4292-acc7-f5d6ab06a151-0', usage_metadata={'input_tokens': 1926, 'output_tokens': 13, 'total_tokens': 1939, 'input_token_details': {'audio': 0, 'cache_read': 0}, 'output_token_details': {'audio': 0, 'reasoning': 0}})]\n",
            "\n",
            "\n",
            "\n"
          ]
        }
      ],
      "source": [
        "from langchain_core.messages import HumanMessage\n",
        "\n",
        "inputs = {\"messages\" : [HumanMessage(content=\"Who is the current captain of the Winnipeg Jets?\")]}\n",
        "\n",
        "async for chunk in simple_agent_graph.astream(inputs, stream_mode=\"updates\"):\n",
        "    for node, values in chunk.items():\n",
        "        print(f\"Receiving update from node: '{node}'\")\n",
        "        print(values[\"messages\"])\n",
        "        print(\"\\n\\n\")"
      ]
    },
    {
      "cell_type": "markdown",
      "metadata": {
        "id": "DBHnUtLSscRr"
      },
      "source": [
        "Let's look at what happened:\n",
        "\n",
        "1. Our state object was populated with our request\n",
        "2. The state object was passed into our entry point (agent node) and the agent node added an `AIMessage` to the state object and passed it along the conditional edge\n",
        "3. The conditional edge received the state object, found the \"tool_calls\" `additional_kwarg`, and sent the state object to the action node\n",
        "4. The action node added the response from the OpenAI function calling endpoint to the state object and passed it along the edge to the agent node\n",
        "5. The agent node added a response to the state object and passed it along the conditional edge\n",
        "6. The conditional edge received the state object, could not find the \"tool_calls\" `additional_kwarg` and passed the state object to END where we see it output in the cell above!\n",
        "\n",
        "Now let's look at an example that shows a multiple tool usage - all with the same flow!"
      ]
    },
    {
      "cell_type": "code",
      "execution_count": 18,
      "metadata": {
        "colab": {
          "base_uri": "https://localhost:8080/"
        },
        "id": "afv2BuEsV5JG",
        "outputId": "ff009536-d281-4a56-c126-9cd245352bfe"
      },
      "outputs": [
        {
          "name": "stdout",
          "output_type": "stream",
          "text": [
            "Receiving update from node: 'agent'\n",
            "[AIMessage(content='', additional_kwargs={'tool_calls': [{'id': 'call_GtAan9ZV9HtU1rqTSRh4MXsn', 'function': {'arguments': '{\"query\": \"QLoRA\"}', 'name': 'arxiv'}, 'type': 'function'}, {'id': 'call_l94W9R0Zreu7rBm3lSOJuoS1', 'function': {'arguments': '{\"query\": \"latest Tweet of the author of QLoRA\"}', 'name': 'tavily_search_results_json'}, 'type': 'function'}], 'refusal': None}, response_metadata={'token_usage': {'completion_tokens': 58, 'prompt_tokens': 178, 'total_tokens': 236, 'completion_tokens_details': {'accepted_prediction_tokens': 0, 'audio_tokens': 0, 'reasoning_tokens': 0, 'rejected_prediction_tokens': 0}, 'prompt_tokens_details': {'audio_tokens': 0, 'cached_tokens': 0}}, 'model_name': 'gpt-4.1-nano-2025-04-14', 'system_fingerprint': 'fp_7c233bf9d1', 'id': 'chatcmpl-CIhEASMUlVaIIKyDHKHemYmcoRqxB', 'service_tier': 'default', 'finish_reason': 'tool_calls', 'logprobs': None}, id='run--d65e06eb-7a9b-4696-a5cb-e758a997201b-0', tool_calls=[{'name': 'arxiv', 'args': {'query': 'QLoRA'}, 'id': 'call_GtAan9ZV9HtU1rqTSRh4MXsn', 'type': 'tool_call'}, {'name': 'tavily_search_results_json', 'args': {'query': 'latest Tweet of the author of QLoRA'}, 'id': 'call_l94W9R0Zreu7rBm3lSOJuoS1', 'type': 'tool_call'}], usage_metadata={'input_tokens': 178, 'output_tokens': 58, 'total_tokens': 236, 'input_token_details': {'audio': 0, 'cache_read': 0}, 'output_token_details': {'audio': 0, 'reasoning': 0}})]\n",
            "\n",
            "\n",
            "\n",
            "Receiving update from node: 'action'\n",
            "Tool Used: arxiv\n",
            "[ToolMessage(content='Published: 2023-05-23\\nTitle: QLoRA: Efficient Finetuning of Quantized LLMs\\nAuthors: Tim Dettmers, Artidoro Pagnoni, Ari Holtzman, Luke Zettlemoyer\\nSummary: We present QLoRA, an efficient finetuning approach that reduces memory usage\\nenough to finetune a 65B parameter model on a single 48GB GPU while preserving\\nfull 16-bit finetuning task performance. QLoRA backpropagates gradients through\\na frozen, 4-bit quantized pretrained language model into Low Rank\\nAdapters~(LoRA). Our best model family, which we name Guanaco, outperforms all\\nprevious openly released models on the Vicuna benchmark, reaching 99.3% of the\\nperformance level of ChatGPT while only requiring 24 hours of finetuning on a\\nsingle GPU. QLoRA introduces a number of innovations to save memory without\\nsacrificing performance: (a) 4-bit NormalFloat (NF4), a new data type that is\\ninformation theoretically optimal for normally distributed weights (b) double\\nquantization to reduce the average memory footprint by quantizing the\\nquantization constants, and (c) paged optimziers to manage memory spikes. We\\nuse QLoRA to finetune more than 1,000 models, providing a detailed analysis of\\ninstruction following and chatbot performance across 8 instruction datasets,\\nmultiple model types (LLaMA, T5), and model scales that would be infeasible to\\nrun with regular finetuning (e.g. 33B and 65B parameter models). Our results\\nshow that QLoRA finetuning on a small high-quality dataset leads to\\nstate-of-the-art results, even when using smaller models than the previous\\nSoTA. We provide a detailed analysis of chatbot performance based on both human\\nand GPT-4 evaluations showing that GPT-4 evaluations are a cheap and reasonable\\nalternative to human evaluation. Furthermore, we find that current chatbot\\nbenchmarks are not trustworthy to accurately evaluate the performance levels of\\nchatbots. A lemon-picked analysis demonstrates where Guanaco fails compared to\\nChatGPT. We release all of our models and code, including CUDA kernels for\\n4-bit training.\\n\\nPublished: 2024-05-27\\nTitle: Accurate LoRA-Finetuning Quantization of LLMs via Information Retention\\nAuthors: Haotong Qin, Xudong Ma, Xingyu Zheng, Xiaoyang Li, Yang Zhang, Shouda Liu, Jie Luo, Xianglong Liu, Michele Magno\\nSummary: The LoRA-finetuning quantization of LLMs has been extensively studied to\\nobtain accurate yet compact LLMs for deployment on resource-constrained\\nhardware. However, existing methods cause the quantized LLM to severely degrade\\nand even fail to benefit from the finetuning of LoRA. This paper proposes a\\nnovel IR-QLoRA for pushing quantized LLMs with LoRA to be highly accurate\\nthrough information retention. The proposed IR-QLoRA mainly relies on two\\ntechnologies derived from the perspective of unified information: (1)\\nstatistics-based Information Calibration Quantization allows the quantized\\nparameters of LLM to retain original information accurately; (2)\\nfinetuning-based Information Elastic Connection makes LoRA utilizes elastic\\nrepresentation transformation with diverse information. Comprehensive\\nexperiments show that IR-QLoRA can significantly improve accuracy across LLaMA\\nand LLaMA2 families under 2-4 bit-widths, e.g., 4- bit LLaMA-7B achieves 1.4%\\nimprovement on MMLU compared with the state-of-the-art methods. The significant\\nperformance gain requires only a tiny 0.31% additional time consumption,\\nrevealing the satisfactory efficiency of our IR-QLoRA. We highlight that\\nIR-QLoRA enjoys excellent versatility, compatible with various frameworks\\n(e.g., NormalFloat and Integer quantization) and brings general accuracy gains.\\nThe code is available at https://github.com/htqin/ir-qlora.\\n\\nPublished: 2025-02-05\\nTitle: Resource-Efficient & Effective Code Summarization\\nAuthors: Saima Afrin, Joseph Call, Khai-Nguyen Nguyen, Oscar Chaparro, Antonio Mastropaolo\\nSummary: Code Language Models (CLMs) have demonstrated high effectiveness in\\nautomating software engineering tasks such as bug fixing, code generation, and\\ncode documentation. This ', name='arxiv', id='ed964ec2-4118-406b-9b69-ed3e84e6b9db', tool_call_id='call_GtAan9ZV9HtU1rqTSRh4MXsn'), ToolMessage(content='[{\"title\": \"QLoRA 4-bit quantization #1595 - ggml-org llama.cpp - GitHub\", \"url\": \"https://github.com/ggerganov/llama.cpp/discussions/1595\", \"content\": \"There was an error while loading. Please reload this page.\\\\n\\\\nThere was an error while loading. Please reload this page.\\\\n\\\\n# {{title}}\\\\n\\\\n### Uh oh!\\\\n\\\\nThere was an error while loading. Please reload this page.\\\\n\\\\nThere was an error while loading. Please reload this page.\\\\n\\\\n#### unbounded May 26, 2023 Author\\\\n\\\\n-\\\\n\\\\n|  | [...] The author actually acknowledged that GPTQ quantization is superior to NF4: \\\\n\\\\nBeta\\\\nWas this translation helpful?\\\\nGive feedback.\\\\n\\\\n### Uh oh!\\\\n\\\\nThere was an error while loading. Please reload this page.\\\\n\\\\nThere was an error while loading. Please reload this page.\\\\n\\\\n# {{title}}\\\\n\\\\n### Uh oh!\\\\n\\\\nThere was an error while loading. Please reload this page.\\\\n\\\\nThere was an error while loading. Please reload this page.\\\\n\\\\n### ikawrakow May 26, 2023\\\\n\\\\n-\\\\n\\\\n|  | [...] There was an error while loading. Please reload this page.\\\\n\\\\nThere was an error while loading. Please reload this page.\\\\n\\\\n### Uh oh!\\\\n\\\\nThere was an error while loading. Please reload this page.\\\\n\\\\nThere was an error while loading. Please reload this page.\\\\n\\\\n# {{editor}}\\'s edit\\\\n\\\\n# {{editor}}\\'s edit\\\\n\\\\n### Uh oh!\\\\n\\\\nThere was an error while loading. Please reload this page.\\\\n\\\\nThere was an error while loading. Please reload this page.\\\\n\\\\n### ikawrakow May 27, 2023\\\\n\\\\nikawrakow\\\\n\\\\n-\\\\n\\\\n|  |\", \"score\": 0.48060113}, {\"title\": \"Mastering QLoRa : A Deep Dive into 4-Bit Quantization and LoRa ...\", \"url\": \"https://manalelaidouni.github.io/4Bit-Quantization-Models-QLoRa.html\", \"content\": \"logo img\\\\n\\\\n# Manal El Aidouni\\\\n\\\\n# Mastering QLoRa : A Deep Dive into 4-Bit Quantization and LoRa Parameter Efficient Fine-Tuning\\\\n\\\\nJune 8, 2024 [...] GIF shows the reconstruction of K (key) and V (value) matrices using the query and value vectors of previous tokens along with those of the new token, with \\\\\\\\(x\\\\\\\\_4\\\\\\\\) as the new token added to the input sequence [\\\\\\\\(x\\\\\\\\_1\\\\\\\\), \\\\\\\\(x\\\\\\\\_2\\\\\\\\), \\\\\\\\(x\\\\\\\\_3\\\\\\\\)]. This means the query vector of the new token will be multiplied with the key matrix K. The result of this dot-product (after scaling and applying softmax) is multiplied by the value matrix V — Illustration Created by Author. [...] Illustration detailing both symmetric and asymmetric quantization approaches to quantizing floating-point values in 32 bits to a signed integer in b-width bits — Created by Author.\", \"score\": 0.41435426}, {\"title\": \"artidoro/qlora - Efficient Finetuning of Quantized LLMs - GitHub\", \"url\": \"https://github.com/artidoro/qlora\", \"content\": \"There was an error while loading. Please reload this page.\\\\n\\\\nThere was an error while loading. Please reload this page.\\\\n\\\\n### Stars\\\\n\\\\n### Watchers\\\\n\\\\n### Forks\\\\n\\\\n## Releases\\\\n\\\\n## Packages 0\\\\n\\\\n### Uh oh!\\\\n\\\\nThere was an error while loading. Please reload this page.\\\\n\\\\nThere was an error while loading. Please reload this page.\\\\n\\\\n## Contributors 16\\\\n\\\\n@artidoro\\\\n@TimDettmers\\\\n@tobi\\\\n@KKcorps\\\\n@Birch-san\\\\n@pmysl\\\\n@bubundas17\\\\n@abhilash1910\\\\n@Qubitium\\\\n@dameikle\\\\n@ranchlai\\\\n@steremma\\\\n@muelletm\\\\n@lhoestq\\\\n\\\\n## Languages [...] # artidoro/qlora\\\\n\\\\n## Folders and files\\\\n\\\\n| Name | | Name | Last commit message | Last commit date |\\\\n ---  --- \\\\n| Latest commit   History93 Commits | | |\\\\n| data/mmlu | | data/mmlu |  |  |\\\\n| eval | | eval |  |  |\\\\n| examples | | examples |  |  |\\\\n| scripts | | scripts |  |  |\\\\n| .gitignore | | .gitignore |  |  |\\\\n| LICENSE | | LICENSE |  |  |\\\\n| README.md | | README.md |  |  |\\\\n| qlora.py | | qlora.py |  |  |\\\\n| requirements.txt | | requirements.txt |  |  |\\\\n| View all files | | |\\\\n\\\\n## Latest commit [...] You can specify the path to your dataset using the `--dataset` argument. If the `--dataset_format` argument is not set, it will default to the Alpaca format. Here are a few examples:\\\\n\\\\n`--dataset`\\\\n`--dataset_format`\\\\n\\\\n### Multi GPU\\\\n\\\\nMulti GPU training and inference work out-of-the-box with Hugging Face\\'s Accelerate. Note that the `per_device_train_batch_size` and `per_device_eval_batch_size` arguments are global batch sizes unlike what their name suggest.\", \"score\": 0.37223184}, {\"title\": \"[2305.14314] QLoRA: Efficient Finetuning of Quantized LLMs - arXiv\", \"url\": \"https://arxiv.org/abs/2305.14314\", \"content\": \"Both individuals and organizations that work with arXivLabs have embraced and accepted our values of openness, community, excellence, and user data privacy. arXiv is committed to these values and only works with partners that adhere to them.\\\\n\\\\nHave an idea for a project that will add value for arXiv\\'s community? Learn more about arXivLabs.\\\\n\\\\narXiv Operational Status   \\\\nGet status notifications via\\\\nemail\\\\nor slack [...] license icon\\\\n\\\\n### References & Citations\\\\n\\\\n### 6 blog links\\\\n\\\\n## BibTeX formatted citation\\\\n\\\\n### Bookmark\\\\n\\\\nBibSonomy logo\\\\nReddit logo\\\\n\\\\n# Bibliographic and Citation Tools\\\\n\\\\n# Code, Data and Media Associated with this Article\\\\n\\\\n# Demos\\\\n\\\\n# Recommenders and Search Tools\\\\n\\\\n# arXivLabs: experimental projects with community collaborators\\\\n\\\\narXivLabs is a framework that allows collaborators to develop and share new arXiv features directly on our website. [...] Cornell University\\\\narxiv logo\\\\n\\\\nHelp | Advanced Search\\\\n\\\\narXiv logo\\\\nCornell University Logo\\\\n\\\\n## quick links\\\\n\\\\n# Computer Science > Machine Learning\\\\n\\\\n# Title:QLoRA: Efficient Finetuning of Quantized LLMs\\\\n\\\\n|  |  |\\\\n --- |\\\\n| Comments: | Extended NeurIPS submission |\\\\n| Subjects: | Machine Learning (cs.LG) |\\\\n| Cite as: | arXiv:2305.14314 [cs.LG] |\\\\n|  | (or  arXiv:2305.14314v1 [cs.LG] for this version) |\\\\n|  |  Focus to learn more  arXiv-issued DOI via DataCite |\\\\n\\\\n## Submission history\\\\n\\\\n## Access Paper:\", \"score\": 0.19627139}, {\"title\": \"QLoRA: 4-bit finetuning of LLMs is here! With it comes Guanaco, a ...\", \"url\": \"https://www.reddit.com/r/LocalLLaMA/comments/13qrdj6/qlora_4bit_finetuning_of_llms_is_here_with_it/\", \"content\": \"QLoRA: 4-bit finetuning of LLMs is here! With it comes Guanaco, a chatbot on a single GPU, achieving 99% ChatGPT performance on the Vicuna\", \"score\": 0.14984241}]', name='tavily_search_results_json', id='570230d3-1016-4ce2-9a1b-383f2bb6ae1a', tool_call_id='call_l94W9R0Zreu7rBm3lSOJuoS1', artifact={'query': 'latest Tweet of the author of QLoRA', 'follow_up_questions': None, 'answer': None, 'images': [], 'results': [{'url': 'https://github.com/ggerganov/llama.cpp/discussions/1595', 'title': 'QLoRA 4-bit quantization #1595 - ggml-org llama.cpp - GitHub', 'content': \"There was an error while loading. Please reload this page.\\n\\nThere was an error while loading. Please reload this page.\\n\\n# {{title}}\\n\\n### Uh oh!\\n\\nThere was an error while loading. Please reload this page.\\n\\nThere was an error while loading. Please reload this page.\\n\\n#### unbounded May 26, 2023 Author\\n\\n-\\n\\n|  | [...] The author actually acknowledged that GPTQ quantization is superior to NF4: \\n\\nBeta\\nWas this translation helpful?\\nGive feedback.\\n\\n### Uh oh!\\n\\nThere was an error while loading. Please reload this page.\\n\\nThere was an error while loading. Please reload this page.\\n\\n# {{title}}\\n\\n### Uh oh!\\n\\nThere was an error while loading. Please reload this page.\\n\\nThere was an error while loading. Please reload this page.\\n\\n### ikawrakow May 26, 2023\\n\\n-\\n\\n|  | [...] There was an error while loading. Please reload this page.\\n\\nThere was an error while loading. Please reload this page.\\n\\n### Uh oh!\\n\\nThere was an error while loading. Please reload this page.\\n\\nThere was an error while loading. Please reload this page.\\n\\n# {{editor}}'s edit\\n\\n# {{editor}}'s edit\\n\\n### Uh oh!\\n\\nThere was an error while loading. Please reload this page.\\n\\nThere was an error while loading. Please reload this page.\\n\\n### ikawrakow May 27, 2023\\n\\nikawrakow\\n\\n-\\n\\n|  |\", 'score': 0.48060113, 'raw_content': None}, {'url': 'https://manalelaidouni.github.io/4Bit-Quantization-Models-QLoRa.html', 'title': 'Mastering QLoRa : A Deep Dive into 4-Bit Quantization and LoRa ...', 'content': 'logo img\\n\\n# Manal El Aidouni\\n\\n# Mastering QLoRa : A Deep Dive into 4-Bit Quantization and LoRa Parameter Efficient Fine-Tuning\\n\\nJune 8, 2024 [...] GIF shows the reconstruction of K (key) and V (value) matrices using the query and value vectors of previous tokens along with those of the new token, with \\\\(x\\\\_4\\\\) as the new token added to the input sequence [\\\\(x\\\\_1\\\\), \\\\(x\\\\_2\\\\), \\\\(x\\\\_3\\\\)]. This means the query vector of the new token will be multiplied with the key matrix K. The result of this dot-product (after scaling and applying softmax) is multiplied by the value matrix V — Illustration Created by Author. [...] Illustration detailing both symmetric and asymmetric quantization approaches to quantizing floating-point values in 32 bits to a signed integer in b-width bits — Created by Author.', 'score': 0.41435426, 'raw_content': None}, {'url': 'https://github.com/artidoro/qlora', 'title': 'artidoro/qlora - Efficient Finetuning of Quantized LLMs - GitHub', 'content': \"There was an error while loading. Please reload this page.\\n\\nThere was an error while loading. Please reload this page.\\n\\n### Stars\\n\\n### Watchers\\n\\n### Forks\\n\\n## Releases\\n\\n## Packages 0\\n\\n### Uh oh!\\n\\nThere was an error while loading. Please reload this page.\\n\\nThere was an error while loading. Please reload this page.\\n\\n## Contributors 16\\n\\n@artidoro\\n@TimDettmers\\n@tobi\\n@KKcorps\\n@Birch-san\\n@pmysl\\n@bubundas17\\n@abhilash1910\\n@Qubitium\\n@dameikle\\n@ranchlai\\n@steremma\\n@muelletm\\n@lhoestq\\n\\n## Languages [...] # artidoro/qlora\\n\\n## Folders and files\\n\\n| Name | | Name | Last commit message | Last commit date |\\n ---  --- \\n| Latest commit   History93 Commits | | |\\n| data/mmlu | | data/mmlu |  |  |\\n| eval | | eval |  |  |\\n| examples | | examples |  |  |\\n| scripts | | scripts |  |  |\\n| .gitignore | | .gitignore |  |  |\\n| LICENSE | | LICENSE |  |  |\\n| README.md | | README.md |  |  |\\n| qlora.py | | qlora.py |  |  |\\n| requirements.txt | | requirements.txt |  |  |\\n| View all files | | |\\n\\n## Latest commit [...] You can specify the path to your dataset using the `--dataset` argument. If the `--dataset_format` argument is not set, it will default to the Alpaca format. Here are a few examples:\\n\\n`--dataset`\\n`--dataset_format`\\n\\n### Multi GPU\\n\\nMulti GPU training and inference work out-of-the-box with Hugging Face's Accelerate. Note that the `per_device_train_batch_size` and `per_device_eval_batch_size` arguments are global batch sizes unlike what their name suggest.\", 'score': 0.37223184, 'raw_content': None}, {'url': 'https://arxiv.org/abs/2305.14314', 'title': '[2305.14314] QLoRA: Efficient Finetuning of Quantized LLMs - arXiv', 'content': \"Both individuals and organizations that work with arXivLabs have embraced and accepted our values of openness, community, excellence, and user data privacy. arXiv is committed to these values and only works with partners that adhere to them.\\n\\nHave an idea for a project that will add value for arXiv's community? Learn more about arXivLabs.\\n\\narXiv Operational Status   \\nGet status notifications via\\nemail\\nor slack [...] license icon\\n\\n### References & Citations\\n\\n### 6 blog links\\n\\n## BibTeX formatted citation\\n\\n### Bookmark\\n\\nBibSonomy logo\\nReddit logo\\n\\n# Bibliographic and Citation Tools\\n\\n# Code, Data and Media Associated with this Article\\n\\n# Demos\\n\\n# Recommenders and Search Tools\\n\\n# arXivLabs: experimental projects with community collaborators\\n\\narXivLabs is a framework that allows collaborators to develop and share new arXiv features directly on our website. [...] Cornell University\\narxiv logo\\n\\nHelp | Advanced Search\\n\\narXiv logo\\nCornell University Logo\\n\\n## quick links\\n\\n# Computer Science > Machine Learning\\n\\n# Title:QLoRA: Efficient Finetuning of Quantized LLMs\\n\\n|  |  |\\n --- |\\n| Comments: | Extended NeurIPS submission |\\n| Subjects: | Machine Learning (cs.LG) |\\n| Cite as: | arXiv:2305.14314 [cs.LG] |\\n|  | (or  arXiv:2305.14314v1 [cs.LG] for this version) |\\n|  |  Focus to learn more  arXiv-issued DOI via DataCite |\\n\\n## Submission history\\n\\n## Access Paper:\", 'score': 0.19627139, 'raw_content': None}, {'url': 'https://www.reddit.com/r/LocalLLaMA/comments/13qrdj6/qlora_4bit_finetuning_of_llms_is_here_with_it/', 'title': 'QLoRA: 4-bit finetuning of LLMs is here! With it comes Guanaco, a ...', 'content': 'QLoRA: 4-bit finetuning of LLMs is here! With it comes Guanaco, a chatbot on a single GPU, achieving 99% ChatGPT performance on the Vicuna', 'score': 0.14984241, 'raw_content': None}], 'response_time': 3.8, 'request_id': '9909bd32-5f0f-420e-806b-277863e107d8'})]\n",
            "\n",
            "\n",
            "\n",
            "Receiving update from node: 'agent'\n",
            "[AIMessage(content='I found the QLoRA paper on arXiv titled \"QLoRA: Efficient Finetuning of Quantized LLMs\" published on May 23, 2023, authored by Tim Dettmers, Artidoro Pagnoni, Ari Holtzman, and Luke Zettlemoyer. \\n\\nRegarding the authors\\' latest Tweets, I will now search for each of them to find their most recent Tweets.', additional_kwargs={'tool_calls': [{'id': 'call_rRA9NxEi1czANCJev6BB1Baj', 'function': {'arguments': '{\"query\": \"Tim Dettmers latest Tweet\"}', 'name': 'tavily_search_results_json'}, 'type': 'function'}, {'id': 'call_kArpWZO82wKZs1jngxfX7g7I', 'function': {'arguments': '{\"query\": \"Artidoro Pagnoni latest Tweet\"}', 'name': 'tavily_search_results_json'}, 'type': 'function'}, {'id': 'call_QTeiPhuvSzj0FpjKPnkW7boV', 'function': {'arguments': '{\"query\": \"Ari Holtzman latest Tweet\"}', 'name': 'tavily_search_results_json'}, 'type': 'function'}, {'id': 'call_WE3vuiwMLrSRFwsPlrNeo5mf', 'function': {'arguments': '{\"query\": \"Luke Zettlemoyer latest Tweet\"}', 'name': 'tavily_search_results_json'}, 'type': 'function'}], 'refusal': None}, response_metadata={'token_usage': {'completion_tokens': 200, 'prompt_tokens': 2963, 'total_tokens': 3163, 'completion_tokens_details': {'accepted_prediction_tokens': 0, 'audio_tokens': 0, 'reasoning_tokens': 0, 'rejected_prediction_tokens': 0}, 'prompt_tokens_details': {'audio_tokens': 0, 'cached_tokens': 0}}, 'model_name': 'gpt-4.1-nano-2025-04-14', 'system_fingerprint': 'fp_7c233bf9d1', 'id': 'chatcmpl-CIhEGXJYFzEU8zJYLj9gcMpO989St', 'service_tier': 'default', 'finish_reason': 'tool_calls', 'logprobs': None}, id='run--ba658498-8459-4792-b325-1762f4bbcee5-0', tool_calls=[{'name': 'tavily_search_results_json', 'args': {'query': 'Tim Dettmers latest Tweet'}, 'id': 'call_rRA9NxEi1czANCJev6BB1Baj', 'type': 'tool_call'}, {'name': 'tavily_search_results_json', 'args': {'query': 'Artidoro Pagnoni latest Tweet'}, 'id': 'call_kArpWZO82wKZs1jngxfX7g7I', 'type': 'tool_call'}, {'name': 'tavily_search_results_json', 'args': {'query': 'Ari Holtzman latest Tweet'}, 'id': 'call_QTeiPhuvSzj0FpjKPnkW7boV', 'type': 'tool_call'}, {'name': 'tavily_search_results_json', 'args': {'query': 'Luke Zettlemoyer latest Tweet'}, 'id': 'call_WE3vuiwMLrSRFwsPlrNeo5mf', 'type': 'tool_call'}], usage_metadata={'input_tokens': 2963, 'output_tokens': 200, 'total_tokens': 3163, 'input_token_details': {'audio': 0, 'cache_read': 0}, 'output_token_details': {'audio': 0, 'reasoning': 0}})]\n",
            "\n",
            "\n",
            "\n",
            "Receiving update from node: 'action'\n",
            "Tool Used: tavily_search_results_json\n",
            "[ToolMessage(content='[{\"title\": \"Tim Dettmers (@Tim_Dettmers) / X\", \"url\": \"https://x.com/tim_dettmers\", \"content\": \"from Fall 2025 - New bitsandbytes maintainer. @Titus_vK. My main focus will be to strengthen open-source for real-world problems and bring the best AI to\", \"score\": 0.73755574}, {\"title\": \"Tim Dettmers on X\", \"url\": \"https://x.com/Tim_Dettmers/status/1969131103798567295\", \"content\": \"Tim Dettmers · @Tim_Dettmers. Looking ... This is similar to DeepSeek fp32 accumulation in their 8-bit matmuls. 8:06 PM · Sep 19, 2025. ·.\", \"score\": 0.6612456}, {\"title\": \"Tim Dettmers\", \"url\": \"https://twitter.com/Tim_Dettmers/status/1838626536989299184\", \"content\": \"This is a pretty exciting update! The AdEMAMix optimizer, which uses lots of memory, is now available in bitsandbytes as 8-bit optimizer.\", \"score\": 0.572078}, {\"title\": \"Tim Dettmers\", \"url\": \"https://twitter.com/Tim_Dettmers/status/1721647109299159368\", \"content\": \"Tim Dettmers · @Tim_Dettmers. This model flew under the radar. It has the highest MMLU score of any open-source model. I have not tried it\", \"score\": 0.4651208}, {\"title\": \"Tim Dettmers\", \"url\": \"https://twitter.com/Tim_Dettmers/status/1967552946172027057\", \"content\": \"Tim Dettmers · @Tim_Dettmers. I do not get why Dan\\'s group does not get more attention: best quantization methods, best quantization kernels\", \"score\": 0.39817297}]', name='tavily_search_results_json', id='4df46ec2-68c9-4eaf-94fc-a71826958bc6', tool_call_id='call_rRA9NxEi1czANCJev6BB1Baj', artifact={'query': 'Tim Dettmers latest Tweet', 'follow_up_questions': None, 'answer': None, 'images': [], 'results': [{'url': 'https://x.com/tim_dettmers', 'title': 'Tim Dettmers (@Tim_Dettmers) / X', 'content': 'from Fall 2025 - New bitsandbytes maintainer. @Titus_vK. My main focus will be to strengthen open-source for real-world problems and bring the best AI to', 'score': 0.73755574, 'raw_content': None}, {'url': 'https://x.com/Tim_Dettmers/status/1969131103798567295', 'title': 'Tim Dettmers on X', 'content': 'Tim Dettmers · @Tim_Dettmers. Looking ... This is similar to DeepSeek fp32 accumulation in their 8-bit matmuls. 8:06 PM · Sep 19, 2025. ·.', 'score': 0.6612456, 'raw_content': None}, {'url': 'https://twitter.com/Tim_Dettmers/status/1838626536989299184', 'title': 'Tim Dettmers', 'content': 'This is a pretty exciting update! The AdEMAMix optimizer, which uses lots of memory, is now available in bitsandbytes as 8-bit optimizer.', 'score': 0.572078, 'raw_content': None}, {'url': 'https://twitter.com/Tim_Dettmers/status/1721647109299159368', 'title': 'Tim Dettmers', 'content': 'Tim Dettmers · @Tim_Dettmers. This model flew under the radar. It has the highest MMLU score of any open-source model. I have not tried it', 'score': 0.4651208, 'raw_content': None}, {'url': 'https://twitter.com/Tim_Dettmers/status/1967552946172027057', 'title': 'Tim Dettmers', 'content': \"Tim Dettmers · @Tim_Dettmers. I do not get why Dan's group does not get more attention: best quantization methods, best quantization kernels\", 'score': 0.39817297, 'raw_content': None}], 'response_time': 4.01, 'request_id': 'a7f3c684-0613-43bc-a18d-dedd874d1200'}), ToolMessage(content='[{\"title\": \"Artidoro Pagnoni (@ArtidoroPagnoni) / X\", \"url\": \"https://x.com/artidoropagnoni?lang=en\", \"content\": \"Artidoro Pagnoni · @ArtidoroPagnoni. ·. Jul 31. Thrilled to share that our Byte Latent Transformer won an Outstanding Paper Award at ACL 2025!. Quote.\", \"score\": 0.81595254}, {\"title\": \"Artidoro Pagnoni on X: \\\\\"@ethayarajh Totally agree. Models should ...\", \"url\": \"https://twitter.com/ArtidoroPagnoni/status/1894919172527911286\", \"content\": \"Conversation. Artidoro Pagnoni · @ArtidoroPagnoni. Totally agree. Models should allocates FLOPs based on entropy anyways. 1:15 AM · Feb 27, 2025.\", \"score\": 0.7515939}, {\"title\": \"Artidoro Pagnoni on X: \\\\\"@Tim_Dettmers https://t.co/MrJPlo8oGL\\\\\" / X\", \"url\": \"https://twitter.com/ArtidoroPagnoni/status/1734014928980263173\", \"content\": \"Artidoro Pagnoni · @ArtidoroPagnoni. Image. 12:59 AM · Dec 11, 2023. ·. 351. Views.\", \"score\": 0.70483154}, {\"title\": \"Artidoro Pagnoni (@ArtidoroPagnoni) / X\", \"url\": \"https://twitter.com/ArtidoroPagnoni\", \"content\": \"Artidoro Pagnoni\\'s posts ... Introducing the Byte Latent Transformer (BLT) – An LLM architecture that scales better than Llama 3 using byte-patches instead of\", \"score\": 0.5951402}, {\"title\": \"Annual Meeting of the Association for Computational Linguistics ...\", \"url\": \"https://aclanthology.org/events/acl-2025/\", \"content\": \"Annual Meeting of the Association for Computational Linguistics (2025). Volumes. Proceedings of the 63rd Annual Meeting of the Association for Computational\", \"score\": 0.008903209}]', name='tavily_search_results_json', id='2ed5e288-c310-4fce-a802-ede5fda363bc', tool_call_id='call_kArpWZO82wKZs1jngxfX7g7I', artifact={'query': 'Artidoro Pagnoni latest Tweet', 'follow_up_questions': None, 'answer': None, 'images': [], 'results': [{'url': 'https://x.com/artidoropagnoni?lang=en', 'title': 'Artidoro Pagnoni (@ArtidoroPagnoni) / X', 'content': 'Artidoro Pagnoni · @ArtidoroPagnoni. ·. Jul 31. Thrilled to share that our Byte Latent Transformer won an Outstanding Paper Award at ACL 2025!. Quote.', 'score': 0.81595254, 'raw_content': None}, {'url': 'https://twitter.com/ArtidoroPagnoni/status/1894919172527911286', 'title': 'Artidoro Pagnoni on X: \"@ethayarajh Totally agree. Models should ...', 'content': 'Conversation. Artidoro Pagnoni · @ArtidoroPagnoni. Totally agree. Models should allocates FLOPs based on entropy anyways. 1:15 AM · Feb 27, 2025.', 'score': 0.7515939, 'raw_content': None}, {'url': 'https://twitter.com/ArtidoroPagnoni/status/1734014928980263173', 'title': 'Artidoro Pagnoni on X: \"@Tim_Dettmers https://t.co/MrJPlo8oGL\" / X', 'content': 'Artidoro Pagnoni · @ArtidoroPagnoni. Image. 12:59 AM · Dec 11, 2023. ·. 351. Views.', 'score': 0.70483154, 'raw_content': None}, {'url': 'https://twitter.com/ArtidoroPagnoni', 'title': 'Artidoro Pagnoni (@ArtidoroPagnoni) / X', 'content': \"Artidoro Pagnoni's posts ... Introducing the Byte Latent Transformer (BLT) – An LLM architecture that scales better than Llama 3 using byte-patches instead of\", 'score': 0.5951402, 'raw_content': None}, {'url': 'https://aclanthology.org/events/acl-2025/', 'title': 'Annual Meeting of the Association for Computational Linguistics ...', 'content': 'Annual Meeting of the Association for Computational Linguistics (2025). Volumes. Proceedings of the 63rd Annual Meeting of the Association for Computational', 'score': 0.008903209, 'raw_content': None}], 'response_time': 3.48, 'request_id': 'ff8cdc04-d70b-44fd-8b42-c5422a8c67ad'}), ToolMessage(content='[{\"title\": \"Ari Holtzman - X\", \"url\": \"https://x.com/universeinanegg/status/1966328444486144465\", \"content\": \"Ari Holtzman · @universeinanegg. try your best work on the thing you actually want to create and think ... 2:30 AM · Sep 12, 2025. ·. 464. Views.\", \"score\": 0.68191797}, {\"title\": \"Ari Holtzman (@universeinanegg) / X\", \"url\": \"https://x.com/universeinanegg?lang=en\", \"content\": \"I\\'m starting Conceptualization Lab, recruiting PhDs & Postdocs! We need new abstractions to understand LLMs. Conceptualization is the act of building\", \"score\": 0.6625569}, {\"title\": \"Ari Holtzman - X\", \"url\": \"https://x.com/universeinanegg/status/1966664601623203955\", \"content\": \"Ari Holtzman · @universeinanegg. I doubt we will find a better representation than natural language ... 12:45 AM · Sep 13, 2025. ·. 771. Views. 1.\", \"score\": 0.6479992}, {\"title\": \"Ari Holtzman – Department of Computer Science\", \"url\": \"https://cs.uchicago.edu/people/ari-holtzman/\", \"content\": \"### Research\\\\n\\\\n### Systems, Architecture & Networking\\\\n\\\\n### Awards & Honors\\\\n\\\\n### Get Updates\\\\n\\\\n### Follow [...] ### Code with a Conscience: New CS Courses Tackle a Changing World\\\\n\\\\n### Events\\\\n\\\\nhailing headshot\\\\n\\\\n### Haifeng Xu- Towards Agentic Intelligence: Past Insights, Future Directions\\\\n\\\\nheadshot\\\\n\\\\n### Sanjay Krishnan (UChicago)- Towards Efficient and Transparent Cross-Border Data Movement for Artificial Intelligence Applications\\\\n\\\\n### Video\\\\n\\\\nfuture of AI panelists\\\\n\\\\n### The Future of AI Panel: Alumni Weekend\\\\n\\\\n### Can we authenticate human creativity?\\\\n\\\\nheadshot [...] ### Diversity @ UChicago CS\\\\n\\\\nAt UChicago CS, we welcome students of all backgrounds and identities.\\\\n\\\\n### Our BPC Plan\\\\n\\\\nFostering an inclusive environment where students from all backgrounds can achieve their highest potential.\\\\n\\\\n### News\\\\n\\\\nMichael Franklin and Aaron Elmore holding award\\\\n\\\\n### Looking Back 20 Years: How an Academic Bet on Real-Time Data Finally Paid Off\\\\n\\\\n### Five UChicago CS students named to Siebel Scholars class of 2026\", \"score\": 0.40028095}, {\"title\": \"Ari Holtzman on X: \\\\\"This is why I was largely anti-theory until grad ...\", \"url\": \"https://twitter.com/universeinanegg/status/1849249175772463350\", \"content\": \"This is why I was largely anti-theory until grad school, and even now I have a much more coarse-to-fine ideology about theory building than\", \"score\": 0.2695222}]', name='tavily_search_results_json', id='eeb83710-ae49-4b3a-a6f1-d877df8cf89f', tool_call_id='call_QTeiPhuvSzj0FpjKPnkW7boV', artifact={'query': 'Ari Holtzman latest Tweet', 'follow_up_questions': None, 'answer': None, 'images': [], 'results': [{'url': 'https://x.com/universeinanegg/status/1966328444486144465', 'title': 'Ari Holtzman - X', 'content': 'Ari Holtzman · @universeinanegg. try your best work on the thing you actually want to create and think ... 2:30 AM · Sep 12, 2025. ·. 464. Views.', 'score': 0.68191797, 'raw_content': None}, {'url': 'https://x.com/universeinanegg?lang=en', 'title': 'Ari Holtzman (@universeinanegg) / X', 'content': \"I'm starting Conceptualization Lab, recruiting PhDs & Postdocs! We need new abstractions to understand LLMs. Conceptualization is the act of building\", 'score': 0.6625569, 'raw_content': None}, {'url': 'https://x.com/universeinanegg/status/1966664601623203955', 'title': 'Ari Holtzman - X', 'content': 'Ari Holtzman · @universeinanegg. I doubt we will find a better representation than natural language ... 12:45 AM · Sep 13, 2025. ·. 771. Views. 1.', 'score': 0.6479992, 'raw_content': None}, {'url': 'https://cs.uchicago.edu/people/ari-holtzman/', 'title': 'Ari Holtzman – Department of Computer Science', 'content': '### Research\\n\\n### Systems, Architecture & Networking\\n\\n### Awards & Honors\\n\\n### Get Updates\\n\\n### Follow [...] ### Code with a Conscience: New CS Courses Tackle a Changing World\\n\\n### Events\\n\\nhailing headshot\\n\\n### Haifeng Xu- Towards Agentic Intelligence: Past Insights, Future Directions\\n\\nheadshot\\n\\n### Sanjay Krishnan (UChicago)- Towards Efficient and Transparent Cross-Border Data Movement for Artificial Intelligence Applications\\n\\n### Video\\n\\nfuture of AI panelists\\n\\n### The Future of AI Panel: Alumni Weekend\\n\\n### Can we authenticate human creativity?\\n\\nheadshot [...] ### Diversity @ UChicago CS\\n\\nAt UChicago CS, we welcome students of all backgrounds and identities.\\n\\n### Our BPC Plan\\n\\nFostering an inclusive environment where students from all backgrounds can achieve their highest potential.\\n\\n### News\\n\\nMichael Franklin and Aaron Elmore holding award\\n\\n### Looking Back 20 Years: How an Academic Bet on Real-Time Data Finally Paid Off\\n\\n### Five UChicago CS students named to Siebel Scholars class of 2026', 'score': 0.40028095, 'raw_content': None}, {'url': 'https://twitter.com/universeinanegg/status/1849249175772463350', 'title': 'Ari Holtzman on X: \"This is why I was largely anti-theory until grad ...', 'content': 'This is why I was largely anti-theory until grad school, and even now I have a much more coarse-to-fine ideology about theory building than', 'score': 0.2695222, 'raw_content': None}], 'response_time': 3.41, 'request_id': 'a227fb1c-f67c-40d0-a8f2-608309aa4faa'}), ToolMessage(content='[{\"title\": \"Luke Zettlemoyer - Search / X\", \"url\": \"https://twitter.com/search?q=Luke%20Zettlemoyer&f=user\", \"content\": \"The latest posts on Luke Zettlemoyer. Read what people are saying and join the conversation ... Luke Zettlemoyer · @skywalker4812. Follow. Click to Follow\", \"score\": 0.585789}, {\"title\": \"Luke Zettlemoyer (@LukeZettlemoyer) / X\", \"url\": \"https://x.com/lukezettlemoyer?lang=en\", \"content\": \"Luke Zettlemoyer. @LukeZettlemoyer. Joined September 2015. 2,169 Following · 9,840 Followers · Posts · Replies · Media. Luke Zettlemoyer\\'s posts. Luke\", \"score\": 0.46570396}, {\"title\": \"Allen School launches new stackable Graduate Certificate in ...\", \"url\": \"https://news.cs.washington.edu/2025/05/28/stackable-graduate-certificate-modern-ai-methods/\", \"content\": \"... Luke Zettlemoyer, who is also senior research director at Meta FAIR. “It\\'s a great opportunity for local professionals and recent graduates\", \"score\": 0.39705023}, {\"title\": \"Yuling Gu\", \"url\": \"https://yulinggu-cs.github.io/\", \"content\": \"Before this, I was a Predoctoral Young Investigator on the Aristo team, at Allen Institute for AI (Ai2). I graduated from New York University in 2020, where I double majored in Computer Science and Language and Mind (a joint major comprising Linguistics, Psychology, and Philosophy). I also completed an M.S. degree at the University of Washington (UW), prior to joining Ai2. [...] Hi there! I am a PhD student at New York University\\'s (NYU) Center for Data Science. I am honored to be a recipient of the Data Science Fellowship Award and the Center for Data Science Medical Fellowship. I am passionate about interdisciplinary research and am always excited to apply knowledge of machine learning techniques together with theories from other fields in my work. [...] PhD Student: NYU’s Center for Data Science and NYU Langone Medical Center (September 2025 - present)\\\\n\\\\nPredoctoral Young Investigator: Aristo team, Allen Institute for Artificial Intelligence (April 2022 - July 2025)\\\\n\\\\nResearch Intern: Aristo team, Allen Institute for Artificial Intelligence (Summer & Fall 2021)\\\\n\\\\nResearch assistant: Courant Institute of Mathematical Sciences, NYU (Summer 2018 - Spring 2020)\\\\n\\\\nHonors Thesis Project: Detecting Event Duration in Text (Spring 2019 - Spring 2020)\", \"score\": 0.06767611}, {\"title\": \"Deep Intelligent Contextual Embedding for Twitter Sentiment Analysis\", \"url\": \"https://www.semanticscholar.org/paper/DICE%3A-Deep-Intelligent-Contextual-Embedding-for-Naseem-Musial/53f961d9aeacd86394164654778f7ff354edcfbf\", \"content\": \"### Deep Contextualized Word Representations\\\\n\\\\n## Related Papers\\\\n\\\\nShowing 1 through 3 of 0 Related Papers\\\\n\\\\n## What Is Semantic Scholar?\\\\n\\\\nSemantic Scholar is a free, AI-powered research tool for scientific literature, based at Ai2.\\\\n\\\\n### About\\\\n\\\\n### Product\\\\n\\\\n### API\\\\n\\\\n### Research\\\\n\\\\n### Help [...] ### Towards Improved Deep Contextual Embedding for the identification of Irony and Sarcasm\\\\n\\\\n### RideKE: Leveraging Low-resource Twitter User-generated Content for Sentiment and Emotion Detection on Code-switched RHS Dataset.\\\\n\\\\n### NTULM: Enriching Social Media Text Representations with Non-Textual Units\\\\n\\\\n### Deep Context-Aware Embedding for Abusive and Hate Speech detection on Twitter\\\\n\\\\n### Chinese Microblog Sentiment Detection Based on CNN-BiGRU and Multihead Attention Mechanism [...] ### Refining Word Embeddings Using Intensity Scores for Sentiment Analysis\\\\n\\\\n### Improving the Accuracy of Pre-trained Word Embeddings for Sentiment Analysis\\\\n\\\\n### Building Large-Scale Twitter-Specific Sentiment Lexicon : A Representation Learning Approach\\\\n\\\\n### VADER: A Parsimonious Rule-Based Model for Sentiment Analysis of Social Media Text\\\\n\\\\n### Tweet sentiment analysis with classifier ensembles\\\\n\\\\n### Twitter Sentiment Classiﬁcation using Distant Supervision\", \"score\": 0.034491852}]', name='tavily_search_results_json', id='82063dea-b0e6-49f1-96ca-a1e0945f86c2', tool_call_id='call_WE3vuiwMLrSRFwsPlrNeo5mf', artifact={'query': 'Luke Zettlemoyer latest Tweet', 'follow_up_questions': None, 'answer': None, 'images': [], 'results': [{'url': 'https://twitter.com/search?q=Luke%20Zettlemoyer&f=user', 'title': 'Luke Zettlemoyer - Search / X', 'content': 'The latest posts on Luke Zettlemoyer. Read what people are saying and join the conversation ... Luke Zettlemoyer · @skywalker4812. Follow. Click to Follow', 'score': 0.585789, 'raw_content': None}, {'url': 'https://x.com/lukezettlemoyer?lang=en', 'title': 'Luke Zettlemoyer (@LukeZettlemoyer) / X', 'content': \"Luke Zettlemoyer. @LukeZettlemoyer. Joined September 2015. 2,169 Following · 9,840 Followers · Posts · Replies · Media. Luke Zettlemoyer's posts. Luke\", 'score': 0.46570396, 'raw_content': None}, {'url': 'https://news.cs.washington.edu/2025/05/28/stackable-graduate-certificate-modern-ai-methods/', 'title': 'Allen School launches new stackable Graduate Certificate in ...', 'content': \"... Luke Zettlemoyer, who is also senior research director at Meta FAIR. “It's a great opportunity for local professionals and recent graduates\", 'score': 0.39705023, 'raw_content': None}, {'url': 'https://yulinggu-cs.github.io/', 'title': 'Yuling Gu', 'content': \"Before this, I was a Predoctoral Young Investigator on the Aristo team, at Allen Institute for AI (Ai2). I graduated from New York University in 2020, where I double majored in Computer Science and Language and Mind (a joint major comprising Linguistics, Psychology, and Philosophy). I also completed an M.S. degree at the University of Washington (UW), prior to joining Ai2. [...] Hi there! I am a PhD student at New York University's (NYU) Center for Data Science. I am honored to be a recipient of the Data Science Fellowship Award and the Center for Data Science Medical Fellowship. I am passionate about interdisciplinary research and am always excited to apply knowledge of machine learning techniques together with theories from other fields in my work. [...] PhD Student: NYU’s Center for Data Science and NYU Langone Medical Center (September 2025 - present)\\n\\nPredoctoral Young Investigator: Aristo team, Allen Institute for Artificial Intelligence (April 2022 - July 2025)\\n\\nResearch Intern: Aristo team, Allen Institute for Artificial Intelligence (Summer & Fall 2021)\\n\\nResearch assistant: Courant Institute of Mathematical Sciences, NYU (Summer 2018 - Spring 2020)\\n\\nHonors Thesis Project: Detecting Event Duration in Text (Spring 2019 - Spring 2020)\", 'score': 0.06767611, 'raw_content': None}, {'url': 'https://www.semanticscholar.org/paper/DICE%3A-Deep-Intelligent-Contextual-Embedding-for-Naseem-Musial/53f961d9aeacd86394164654778f7ff354edcfbf', 'title': 'Deep Intelligent Contextual Embedding for Twitter Sentiment Analysis', 'content': '### Deep Contextualized Word Representations\\n\\n## Related Papers\\n\\nShowing 1 through 3 of 0 Related Papers\\n\\n## What Is Semantic Scholar?\\n\\nSemantic Scholar is a free, AI-powered research tool for scientific literature, based at Ai2.\\n\\n### About\\n\\n### Product\\n\\n### API\\n\\n### Research\\n\\n### Help [...] ### Towards Improved Deep Contextual Embedding for the identification of Irony and Sarcasm\\n\\n### RideKE: Leveraging Low-resource Twitter User-generated Content for Sentiment and Emotion Detection on Code-switched RHS Dataset.\\n\\n### NTULM: Enriching Social Media Text Representations with Non-Textual Units\\n\\n### Deep Context-Aware Embedding for Abusive and Hate Speech detection on Twitter\\n\\n### Chinese Microblog Sentiment Detection Based on CNN-BiGRU and Multihead Attention Mechanism [...] ### Refining Word Embeddings Using Intensity Scores for Sentiment Analysis\\n\\n### Improving the Accuracy of Pre-trained Word Embeddings for Sentiment Analysis\\n\\n### Building Large-Scale Twitter-Specific Sentiment Lexicon : A Representation Learning Approach\\n\\n### VADER: A Parsimonious Rule-Based Model for Sentiment Analysis of Social Media Text\\n\\n### Tweet sentiment analysis with classifier ensembles\\n\\n### Twitter Sentiment Classiﬁcation using Distant Supervision', 'score': 0.034491852, 'raw_content': None}], 'response_time': 3.34, 'request_id': 'e104496e-410e-405a-baa6-ef0599a106c3'})]\n",
            "\n",
            "\n",
            "\n",
            "Receiving update from node: 'agent'\n",
            "[AIMessage(content='Here are the latest Tweets from the authors of the QLoRA paper:\\n\\n- **Tim Dettmers**: His most recent Tweet discusses the new bitsandbytes maintainer focusing on open-source AI solutions. [Link to Tweet](https://x.com/Tim_Dettmers/status/1969131103798567295)\\n\\n- **Artidoro Pagnoni**: His latest Tweet shares that their Byte Latent Transformer won an Outstanding Paper Award at ACL 2025. [Link to Tweet](https://x.com/artidoropagnoni/status/1894919172527911286)\\n\\n- **Ari Holtzman**: His recent Tweet talks about starting a Conceptualization Lab to understand LLMs better. [Link to Tweet](https://x.com/universeinanegg/status/1966328444486144465)\\n\\n- **Luke Zettlemoyer**: His latest Tweet is about the launch of a new stackable Graduate Certificate in modern AI methods at the University of Washington. [Link to Tweet](https://x.com/lukezettlemoyer?lang=en)\\n\\nWould you like more details on any of these Tweets or further assistance?', additional_kwargs={'refusal': None}, response_metadata={'token_usage': {'completion_tokens': 238, 'prompt_tokens': 5800, 'total_tokens': 6038, 'completion_tokens_details': {'accepted_prediction_tokens': 0, 'audio_tokens': 0, 'reasoning_tokens': 0, 'rejected_prediction_tokens': 0}, 'prompt_tokens_details': {'audio_tokens': 0, 'cached_tokens': 3072}}, 'model_name': 'gpt-4.1-nano-2025-04-14', 'system_fingerprint': 'fp_7c233bf9d1', 'id': 'chatcmpl-CIhEOU5TaHMjDfhC3YYvrPoQ9E4SB', 'service_tier': 'default', 'finish_reason': 'stop', 'logprobs': None}, id='run--9f8dc1e8-0939-4287-8475-9f90e695f0fd-0', usage_metadata={'input_tokens': 5800, 'output_tokens': 238, 'total_tokens': 6038, 'input_token_details': {'audio': 0, 'cache_read': 3072}, 'output_token_details': {'audio': 0, 'reasoning': 0}})]\n",
            "\n",
            "\n",
            "\n"
          ]
        }
      ],
      "source": [
        "inputs = {\"messages\" : [HumanMessage(content=\"Search Arxiv for the QLoRA paper, then search each of the authors to find out their latest Tweet using Tavily!\")]}\n",
        "\n",
        "async for chunk in simple_agent_graph.astream(inputs, stream_mode=\"updates\"):\n",
        "    for node, values in chunk.items():\n",
        "        print(f\"Receiving update from node: '{node}'\")\n",
        "        if node == \"action\":\n",
        "          print(f\"Tool Used: {values['messages'][0].name}\")\n",
        "        print(values[\"messages\"])\n",
        "\n",
        "        print(\"\\n\\n\")"
      ]
    },
    {
      "cell_type": "markdown",
      "metadata": {
        "id": "CXzDlZVz1Hnf"
      },
      "source": [
        "#### 🏗️ Activity #2:\n",
        "\n",
        "Please write out the steps the agent took to arrive at the correct answer."
      ]
    },
    {
      "cell_type": "markdown",
      "metadata": {},
      "source": [
        "# 🤝 Breakout Room #2"
      ]
    },
    {
      "cell_type": "markdown",
      "metadata": {
        "id": "v7c8-Uyarh1v"
      },
      "source": [
        "## Part 1: LangSmith Evaluator"
      ]
    },
    {
      "cell_type": "markdown",
      "metadata": {
        "id": "pV3XeFOT1Sar"
      },
      "source": [
        "### Pre-processing for LangSmith"
      ]
    },
    {
      "cell_type": "markdown",
      "metadata": {
        "id": "wruQCuzewUuO"
      },
      "source": [
        "To do a little bit more preprocessing, let's wrap our LangGraph agent in a simple chain."
      ]
    },
    {
      "cell_type": "code",
      "execution_count": 47,
      "metadata": {
        "colab": {
          "base_uri": "https://localhost:8080/",
          "height": 105
        },
        "id": "orYxBZXSxJjZ",
        "outputId": "76be837b-6424-4516-8f63-07fbd8c25bf5"
      },
      "outputs": [
        {
          "data": {
            "text/plain": [
              "{'answer': 'RAG stands for Retrieval-Augmented Generation. It is a technique used in natural language processing that combines retrieval-based methods with generative models to improve the quality and accuracy of generated responses. In RAG, a system retrieves relevant information from a large knowledge base or document store and then uses this information to generate more informed and contextually appropriate responses. This approach is particularly useful for tasks that require up-to-date or specialized knowledge, as it allows the model to incorporate external information dynamically.'}"
            ]
          },
          "execution_count": 47,
          "metadata": {},
          "output_type": "execute_result"
        }
      ],
      "source": [
        "def convert_inputs(input_object):\n",
        "  return {\"messages\" : [HumanMessage(content=input_object[\"text\"])]}\n",
        "\n",
        "def parse_output(input_state):\n",
        "  return {\"answer\" : input_state[\"messages\"][-1].content}\n",
        "\n",
        "agent_chain_with_formatting = convert_inputs | simple_agent_graph | parse_output\n",
        "\n",
        "agent_chain_with_formatting.invoke({\"text\" : \"What is RAG?\"})"
      ]
    },
    {
      "cell_type": "markdown",
      "metadata": {
        "id": "f9UkCIqkpyZu"
      },
      "source": [
        "### Task 1: Creating An Evaluation Dataset\n",
        "\n",
        "Just as we saw last week, we'll want to create a dataset to test our Agent's ability to answer questions.\n",
        "\n",
        "In order to do this - we'll want to provide some questions and some answers. Let's look at how we can create such a dataset below.\n",
        "\n",
        "```python\n",
        "questions = [\n",
        "    {\n",
        "        \"inputs\" : {\"text\" : \"What optimizer is used in QLoRA?\"},\n",
        "        \"outputs\" : {\"must_mention\" : [\"paged\", \"optimizer\"]}   \n",
        "    },\n",
        "    {\n",
        "        \"inputs\" : {\"text\" : \"What data type was created in the QLoRA paper?\"},\n",
        "        \"outputs\" : {\"must_mention\" : [\"NF4\", \"NormalFloat\"]}\n",
        "    },\n",
        "    {\n",
        "        \"inputs\" : {\"text\" : \"What is a Retrieval Augmented Generation system?\"},\n",
        "        \"outputs\" : {\"must_mention\" : [\"ground\", \"context\"]}\n",
        "    },\n",
        "    {\n",
        "        \"inputs\" : {\"text\" : \"Who authored the QLoRA paper?\"},  \n",
        "        \"outputs\" : {\"must_mention\" : [\"Tim\", \"Dettmers\"]}\n",
        "    },\n",
        "    {\n",
        "        \"inputs\" : {\"text\" : \"What is the most popular deep learning framework?\"},\n",
        "        \"outputs\" : {\"must_mention\" : [\"PyTorch\", \"TensorFlow\"]}\n",
        "    },\n",
        "    {\n",
        "        \"inputs\" : {\"text\" : \"What significant improvements does the LoRA system make?\"},\n",
        "        \"outputs\" : {\"must_mention\" : [\"reduce\", \"parameters\"]}\n",
        "    }\n",
        "]\n",
        "```"
      ]
    },
    {
      "cell_type": "markdown",
      "metadata": {
        "id": "VfMXF2KAsQxs"
      },
      "source": [
        "#### 🏗️ Activity #3:\n",
        "\n",
        "Please create a dataset in the above format with at least 5 questions."
      ]
    },
    {
      "cell_type": "code",
      "execution_count": 48,
      "metadata": {
        "id": "CbagRuJop83E"
      },
      "outputs": [],
      "source": [
        "questions = [\n",
        "    {\n",
        "        \"inputs\" : {\"text\" : \"What optimizer is used in QLoRA?\"},\n",
        "        \"outputs\" : {\"must_mention\" : [\"paged\", \"optimizer\"]}   \n",
        "    },\n",
        "    {\n",
        "        \"inputs\" : {\"text\" : \"What data type was created in the QLoRA paper?\"},\n",
        "        \"outputs\" : {\"must_mention\" : [\"NF4\", \"NormalFloat\"]}\n",
        "    },\n",
        "    {\n",
        "        \"inputs\" : {\"text\" : \"What is a Retrieval Augmented Generation system?\"},\n",
        "        \"outputs\" : {\"must_mention\" : [\"ground\", \"context\"]}\n",
        "    },\n",
        "    {\n",
        "        \"inputs\" : {\"text\" : \"Who authored the QLoRA paper?\"},  \n",
        "        \"outputs\" : {\"must_mention\" : [\"Tim\", \"Dettmers\"]}\n",
        "    },\n",
        "    {\n",
        "        \"inputs\" : {\"text\" : \"What is the most popular deep learning framework?\"},\n",
        "        \"outputs\" : {\"must_mention\" : [\"PyTorch\", \"TensorFlow\"]}\n",
        "    },\n",
        "    {\n",
        "        \"inputs\" : {\"text\" : \"What significant improvements does the LoRA system make?\"},\n",
        "        \"outputs\" : {\"must_mention\" : [\"reduce\", \"parameters\"]}\n",
        "    }\n",
        "]"
      ]
    },
    {
      "cell_type": "markdown",
      "metadata": {
        "id": "z7QVFuAmsh7L"
      },
      "source": [
        "Now we can add our dataset to our LangSmith project using the following code which we saw last Thursday!"
      ]
    },
    {
      "cell_type": "code",
      "execution_count": 49,
      "metadata": {
        "id": "RLfrZrgSsn85"
      },
      "outputs": [
        {
          "data": {
            "text/plain": [
              "{'example_ids': ['922ead04-b155-4cea-aaa3-1fe8a3c5cf4a',\n",
              "  '95ab1fb6-ca89-453a-a63f-2ac44e752a19',\n",
              "  '5fde885e-3fd6-42e6-96f4-cbdbf4cd4686',\n",
              "  'e7bf1c8d-d964-4800-991f-7d56e52e0b44',\n",
              "  '6c40eaa3-63c5-4c4f-9735-ee824902cb4b',\n",
              "  '1d20d11d-8c3b-4959-9b34-1058a71f84df'],\n",
              " 'count': 6}"
            ]
          },
          "execution_count": 49,
          "metadata": {},
          "output_type": "execute_result"
        }
      ],
      "source": [
        "from langsmith import Client\n",
        "\n",
        "client = Client()\n",
        "\n",
        "dataset_name = f\"Retrieval Augmented Generation - Evaluation Dataset - {uuid4().hex[0:8]}\"\n",
        "\n",
        "dataset = client.create_dataset(\n",
        "    dataset_name=dataset_name,\n",
        "    description=\"Questions about the QLoRA Paper to Evaluate RAG over the same paper.\"\n",
        ")\n",
        "\n",
        "client.create_examples(\n",
        "    dataset_id=dataset.id,\n",
        "    examples=questions\n",
        ")"
      ]
    },
    {
      "cell_type": "markdown",
      "metadata": {
        "id": "-lRTXUrTtP9Y"
      },
      "source": [
        "### Task 2: Adding Evaluators\n",
        "\n",
        "Let's use the OpenEvals library to product an evaluator that we can then pass into LangSmith!\n",
        "\n",
        "> NOTE: Examine the `CORRECTNESS_PROMPT` below!"
      ]
    },
    {
      "cell_type": "code",
      "execution_count": 50,
      "metadata": {},
      "outputs": [
        {
          "name": "stdout",
          "output_type": "stream",
          "text": [
            "You are an expert data labeler evaluating model outputs for correctness. Your task is to assign a score based on the following rubric:\n",
            "\n",
            "<Rubric>\n",
            "  A correct answer:\n",
            "  - Provides accurate and complete information\n",
            "  - Contains no factual errors\n",
            "  - Addresses all parts of the question\n",
            "  - Is logically consistent\n",
            "  - Uses precise and accurate terminology\n",
            "\n",
            "  When scoring, you should penalize:\n",
            "  - Factual errors or inaccuracies\n",
            "  - Incomplete or partial answers\n",
            "  - Misleading or ambiguous statements\n",
            "  - Incorrect terminology\n",
            "  - Logical inconsistencies\n",
            "  - Missing key information\n",
            "</Rubric>\n",
            "\n",
            "<Instructions>\n",
            "  - Carefully read the input and output\n",
            "  - Check for factual accuracy and completeness\n",
            "  - Focus on correctness of information rather than style or verbosity\n",
            "</Instructions>\n",
            "\n",
            "<Reminder>\n",
            "  The goal is to evaluate factual correctness and completeness of the response.\n",
            "</Reminder>\n",
            "\n",
            "<input>\n",
            "{inputs}\n",
            "</input>\n",
            "\n",
            "<output>\n",
            "{outputs}\n",
            "</output>\n",
            "\n",
            "Use the reference outputs below to help you evaluate the correctness of the response:\n",
            "\n",
            "<reference_outputs>\n",
            "{reference_outputs}\n",
            "</reference_outputs>\n",
            "\n"
          ]
        }
      ],
      "source": [
        "from openevals.prompts import CORRECTNESS_PROMPT\n",
        "print(CORRECTNESS_PROMPT)"
      ]
    },
    {
      "cell_type": "code",
      "execution_count": 59,
      "metadata": {
        "id": "QrAUXMFftlAY"
      },
      "outputs": [],
      "source": [
        "from openevals.llm import create_llm_as_judge\n",
        "\n",
        "correctness_evaluator = create_llm_as_judge(\n",
        "        prompt=CORRECTNESS_PROMPT,\n",
        "        model=\"openai:o3-mini\",\n",
        "        feedback_key=\"correctness\",\n",
        "    )"
      ]
    },
    {
      "cell_type": "markdown",
      "metadata": {},
      "source": [
        "Let's also create a custom Evaluator for our created dataset above - we do this by first making a simple Python function!"
      ]
    },
    {
      "cell_type": "code",
      "execution_count": 60,
      "metadata": {},
      "outputs": [],
      "source": [
        "def must_mention(inputs: dict, outputs: dict, reference_outputs: dict) -> float:\n",
        "  # determine if the phrases in the reference_outputs are in the outputs\n",
        "  required = reference_outputs.get(\"must_mention\") or []\n",
        "  score = all(phrase in outputs[\"answer\"] for phrase in required)\n",
        "  return score"
      ]
    },
    {
      "cell_type": "markdown",
      "metadata": {
        "id": "PNtHORUh0jZY"
      },
      "source": [
        "#### ❓ Question #4:\n",
        "\n",
        "What are some ways you could improve this metric as-is?\n",
        "\n",
        "> NOTE: Alternatively you can suggest where gaps exist in this method."
      ]
    },
    {
      "cell_type": "markdown",
      "metadata": {
        "id": "r1RJr349zhv7"
      },
      "source": [
        "Task 3: Evaluating\n",
        "\n",
        "All that is left to do is evaluate our agent's response!"
      ]
    },
    {
      "cell_type": "code",
      "execution_count": 61,
      "metadata": {
        "colab": {
          "base_uri": "https://localhost:8080/",
          "height": 118,
          "referenced_widgets": [
            "efcf57067cf743d8b4ce059a61cbe02e",
            "53e33aae3b97490c82aec7bbb0d6ebba",
            "ad84e0e971d3455db2efe7dd0d1f803e",
            "72adef9b70dd48198b7322b6c5b113cf",
            "8a61d045ffd44ac58f3f13eb10044836",
            "041e22a9b5514e36bd4d1dac01d5d398",
            "886d762f2a7c421382efb5502c6d42a1",
            "ab91fd625bbd43afbf8c6398193a88d0",
            "716557ad09874dcb989d75f7c74424cd",
            "77d4c0ebaae045b58efc4f789c9a2360",
            "0d622ccc56264fac8fd7508dbdbe6e29"
          ]
        },
        "id": "p5TeCUUkuGld",
        "outputId": "2f7d62a2-e78d-447a-d07b-f9e4d500fb79"
      },
      "outputs": [
        {
          "name": "stdout",
          "output_type": "stream",
          "text": [
            "View the evaluation results for experiment: 'simple_agent, baseline-4085d794' at:\n",
            "https://smith.langchain.com/o/340cd80b-3296-5752-9a9e-58582118073a/datasets/cd9ccfce-ebdd-4b2b-8c53-53df5a7a341b/compare?selectedSessions=6e4899d9-d28a-4008-8ffc-3e7883e9ef07\n",
            "\n",
            "\n"
          ]
        },
        {
          "data": {
            "application/vnd.jupyter.widget-view+json": {
              "model_id": "e9819a2b30c94b62b2a4cb83c615c784",
              "version_major": 2,
              "version_minor": 0
            },
            "text/plain": [
              "0it [00:00, ?it/s]"
            ]
          },
          "metadata": {},
          "output_type": "display_data"
        }
      ],
      "source": [
        "results = client.evaluate(\n",
        "    agent_chain_with_formatting,\n",
        "    data=dataset.name,\n",
        "    evaluators=[correctness_evaluator, must_mention],\n",
        "    experiment_prefix=\"simple_agent, baseline\",  # optional, experiment name prefix\n",
        "    description=\"Testing the baseline system.\",  # optional, experiment description\n",
        "    max_concurrency=4, # optional, add concurrency\n",
        ")"
      ]
    },
    {
      "cell_type": "markdown",
      "metadata": {
        "id": "jhTNe4kWrplB"
      },
      "source": [
        "## Part 2: LangGraph with Helpfulness:"
      ]
    },
    {
      "cell_type": "markdown",
      "metadata": {
        "id": "w1wKRddbIY_S"
      },
      "source": [
        "### Task 3: Adding Helpfulness Check and \"Loop\" Limits\n",
        "\n",
        "Now that we've done evaluation - let's see if we can add an extra step where we review the content we've generated to confirm if it fully answers the user's query!\n",
        "\n",
        "We're going to make a few key adjustments to account for this:\n",
        "\n",
        "1. We're going to add an artificial limit on how many \"loops\" the agent can go through - this will help us to avoid the potential situation where we never exit the loop.\n",
        "2. We'll add to our existing conditional edge to obtain the behaviour we desire."
      ]
    },
    {
      "cell_type": "markdown",
      "metadata": {
        "id": "npTYJ8ayR5B3"
      },
      "source": [
        "First, let's define our state again - we can check the length of the state object, so we don't need additional state for this."
      ]
    },
    {
      "cell_type": "code",
      "execution_count": 62,
      "metadata": {
        "id": "-LQ84YhyJG0w"
      },
      "outputs": [],
      "source": [
        "class AgentState(TypedDict):\n",
        "  messages: Annotated[list, add_messages]"
      ]
    },
    {
      "cell_type": "markdown",
      "metadata": {
        "id": "sD7EV0HqSQcb"
      },
      "source": [
        "Now we can set our graph up! This process will be almost entirely the same - with the inclusion of one additional node/conditional edge!"
      ]
    },
    {
      "cell_type": "markdown",
      "metadata": {
        "id": "oajBwLkFVi1N"
      },
      "source": [
        "#### 🏗️ Activity #5:\n",
        "\n",
        "Please write markdown for the following cells to explain what each is doing."
      ]
    },
    {
      "cell_type": "markdown",
      "metadata": {
        "id": "M6rN7feNVn9f"
      },
      "source": [
        "##### YOUR MARKDOWN HERE"
      ]
    },
    {
      "cell_type": "code",
      "execution_count": 63,
      "metadata": {
        "colab": {
          "base_uri": "https://localhost:8080/"
        },
        "id": "6r6XXA5FJbVf",
        "outputId": "ff713041-e498-4f0f-a875-a03502b87729"
      },
      "outputs": [
        {
          "data": {
            "text/plain": [
              "<langgraph.graph.state.StateGraph at 0x7eb692a47750>"
            ]
          },
          "execution_count": 63,
          "metadata": {},
          "output_type": "execute_result"
        }
      ],
      "source": [
        "graph_with_helpfulness_check = StateGraph(AgentState)\n",
        "\n",
        "graph_with_helpfulness_check.add_node(\"agent\", call_model)\n",
        "graph_with_helpfulness_check.add_node(\"action\", tool_node)"
      ]
    },
    {
      "cell_type": "markdown",
      "metadata": {
        "id": "XZ22o2mWVrfp"
      },
      "source": [
        "##### YOUR MARKDOWN HERE"
      ]
    },
    {
      "cell_type": "code",
      "execution_count": 64,
      "metadata": {
        "colab": {
          "base_uri": "https://localhost:8080/"
        },
        "id": "HNWHwWxuRiLY",
        "outputId": "295f5a35-ceff-452a-ffb8-c52eada6a816"
      },
      "outputs": [
        {
          "data": {
            "text/plain": [
              "<langgraph.graph.state.StateGraph at 0x7eb692a47750>"
            ]
          },
          "execution_count": 64,
          "metadata": {},
          "output_type": "execute_result"
        }
      ],
      "source": [
        "graph_with_helpfulness_check.set_entry_point(\"agent\")"
      ]
    },
    {
      "cell_type": "markdown",
      "metadata": {
        "id": "rsXeF6xlaXOZ"
      },
      "source": [
        "##### YOUR MARKDOWN HERE"
      ]
    },
    {
      "cell_type": "code",
      "execution_count": 65,
      "metadata": {
        "id": "z_Sq3A9SaV1O"
      },
      "outputs": [],
      "source": [
        "from langchain_core.prompts import PromptTemplate\n",
        "from langchain_core.output_parsers import StrOutputParser\n",
        "\n",
        "def tool_call_or_helpful(state):\n",
        "  last_message = state[\"messages\"][-1]\n",
        "\n",
        "  if last_message.tool_calls:\n",
        "    return \"action\"\n",
        "\n",
        "  initial_query = state[\"messages\"][0]\n",
        "  final_response = state[\"messages\"][-1]\n",
        "\n",
        "  if len(state[\"messages\"]) > 10:\n",
        "    return \"END\"\n",
        "\n",
        "  prompt_template = \"\"\"\\\n",
        "  Given an initial query and a final response, determine if the final response is extremely helpful or not. Please indicate helpfulness with a 'Y' and unhelpfulness as an 'N'.\n",
        "\n",
        "  Initial Query:\n",
        "  {initial_query}\n",
        "\n",
        "  Final Response:\n",
        "  {final_response}\"\"\"\n",
        "\n",
        "  helpfullness_prompt_template = PromptTemplate.from_template(prompt_template)\n",
        "\n",
        "  helpfulness_check_model = ChatOpenAI(model=\"gpt-4.1-mini\")\n",
        "\n",
        "  helpfulness_chain = helpfullness_prompt_template | helpfulness_check_model | StrOutputParser()\n",
        "\n",
        "  helpfulness_response = helpfulness_chain.invoke({\"initial_query\" : initial_query.content, \"final_response\" : final_response.content})\n",
        "\n",
        "  if \"Y\" in helpfulness_response:\n",
        "    return \"end\"\n",
        "  else:\n",
        "    return \"continue\""
      ]
    },
    {
      "cell_type": "markdown",
      "metadata": {
        "id": "Fz1u9Vf4SHxJ"
      },
      "source": [
        "#### 🏗️ Activity #4:\n",
        "\n",
        "Please write what is happening in our `tool_call_or_helpful` function!"
      ]
    },
    {
      "cell_type": "markdown",
      "metadata": {
        "id": "6BhnBW2YVsJO"
      },
      "source": [
        "##### YOUR MARKDOWN HERE"
      ]
    },
    {
      "cell_type": "code",
      "execution_count": 66,
      "metadata": {
        "colab": {
          "base_uri": "https://localhost:8080/"
        },
        "id": "aVTKnWMbP_8T",
        "outputId": "7f729b1f-311c-4084-ceaf-0da437900c85"
      },
      "outputs": [
        {
          "data": {
            "text/plain": [
              "<langgraph.graph.state.StateGraph at 0x7eb692a47750>"
            ]
          },
          "execution_count": 66,
          "metadata": {},
          "output_type": "execute_result"
        }
      ],
      "source": [
        "graph_with_helpfulness_check.add_conditional_edges(\n",
        "    \"agent\",\n",
        "    tool_call_or_helpful,\n",
        "    {\n",
        "        \"continue\" : \"agent\",\n",
        "        \"action\" : \"action\",\n",
        "        \"end\" : END\n",
        "    }\n",
        ")"
      ]
    },
    {
      "cell_type": "markdown",
      "metadata": {
        "id": "ZGDLEWOIVtK0"
      },
      "source": [
        "##### YOUR MARKDOWN HERE"
      ]
    },
    {
      "cell_type": "code",
      "execution_count": 67,
      "metadata": {
        "colab": {
          "base_uri": "https://localhost:8080/"
        },
        "id": "cbDK2MbuREgU",
        "outputId": "21a64c20-27a1-4e0e-afde-a639abaa8b55"
      },
      "outputs": [
        {
          "data": {
            "text/plain": [
              "<langgraph.graph.state.StateGraph at 0x7eb692a47750>"
            ]
          },
          "execution_count": 67,
          "metadata": {},
          "output_type": "execute_result"
        }
      ],
      "source": [
        "graph_with_helpfulness_check.add_edge(\"action\", \"agent\")"
      ]
    },
    {
      "cell_type": "markdown",
      "metadata": {
        "id": "rSI8AOaEVvT-"
      },
      "source": [
        "##### YOUR MARKDOWN HERE"
      ]
    },
    {
      "cell_type": "code",
      "execution_count": 68,
      "metadata": {
        "id": "oQldl8ERQ8lf"
      },
      "outputs": [],
      "source": [
        "agent_with_helpfulness_check = graph_with_helpfulness_check.compile()"
      ]
    },
    {
      "cell_type": "markdown",
      "metadata": {
        "id": "F67FGCMRVwGz"
      },
      "source": [
        "##### YOUR MARKDOWN HERE"
      ]
    },
    {
      "cell_type": "code",
      "execution_count": 69,
      "metadata": {
        "colab": {
          "base_uri": "https://localhost:8080/"
        },
        "id": "B3oo8E-PRK1T",
        "outputId": "f152dea8-96ad-4d29-d8b2-a064c96a8bd3"
      },
      "outputs": [
        {
          "name": "stdout",
          "output_type": "stream",
          "text": [
            "Receiving update from node: 'agent'\n",
            "[AIMessage(content='', additional_kwargs={'tool_calls': [{'id': 'call_2Sx8VTCjemSs5gufRDYLzNH0', 'function': {'arguments': '{\"query\": \"LoRA machine learning\"}', 'name': 'tavily_search_results_json'}, 'type': 'function'}, {'id': 'call_RpW1uMIFltVKUtHZ7iNU8izn', 'function': {'arguments': '{\"query\": \"Tim Dettmers\"}', 'name': 'tavily_search_results_json'}, 'type': 'function'}, {'id': 'call_iuhd8gIGkdXgfYsd5lP2m0RU', 'function': {'arguments': '{\"query\": \"Attention in machine learning\"}', 'name': 'tavily_search_results_json'}, 'type': 'function'}], 'refusal': None}, response_metadata={'token_usage': {'completion_tokens': 79, 'prompt_tokens': 177, 'total_tokens': 256, 'completion_tokens_details': {'accepted_prediction_tokens': 0, 'audio_tokens': 0, 'reasoning_tokens': 0, 'rejected_prediction_tokens': 0}, 'prompt_tokens_details': {'audio_tokens': 0, 'cached_tokens': 0}}, 'model_name': 'gpt-4.1-nano-2025-04-14', 'system_fingerprint': 'fp_7c233bf9d1', 'id': 'chatcmpl-CIhnFOATk5wCYF9R2VNj1QYKYI9i1', 'service_tier': 'default', 'finish_reason': 'tool_calls', 'logprobs': None}, id='run--3669784e-d4b9-474e-a40e-42d3b4fdbac8-0', tool_calls=[{'name': 'tavily_search_results_json', 'args': {'query': 'LoRA machine learning'}, 'id': 'call_2Sx8VTCjemSs5gufRDYLzNH0', 'type': 'tool_call'}, {'name': 'tavily_search_results_json', 'args': {'query': 'Tim Dettmers'}, 'id': 'call_RpW1uMIFltVKUtHZ7iNU8izn', 'type': 'tool_call'}, {'name': 'tavily_search_results_json', 'args': {'query': 'Attention in machine learning'}, 'id': 'call_iuhd8gIGkdXgfYsd5lP2m0RU', 'type': 'tool_call'}], usage_metadata={'input_tokens': 177, 'output_tokens': 79, 'total_tokens': 256, 'input_token_details': {'audio': 0, 'cache_read': 0}, 'output_token_details': {'audio': 0, 'reasoning': 0}})]\n",
            "\n",
            "\n",
            "\n",
            "Receiving update from node: 'action'\n",
            "[ToolMessage(content='[{\"title\": \"What is LoRA (Low-Rank Adaption)? - IBM\", \"url\": \"https://www.ibm.com/think/topics/lora\", \"content\": \"Low-rank adaptation (LoRA) is a technique used to adapt machine learning models to new contexts. It can adapt large models to specific uses by adding lightweight pieces to the original model rather than changing the entire model. A data scientist can quickly expand the ways that a model can be used rather than requiring them to build an entirely new model. [...] LoRA adds low-rank matrices to the frozen original machine learning model. The low-rank matrices are updated through gradient descent during fine-tuning, without modifying the weights of the base model. These matrices contain new weights to apply to the model when generating results. The multiplied change matrix is added to the base model weights to get the final fine-tuned model. This process alters the outputs that the model produces with minimal computing power and training time. [...] LoRA leverages the concept of lower-rank matrices to make the model training process extremely efficient and fast. Traditionally fine-tuning LLMs requires adjusting the entire model. LoRA focuses on modifying a smaller subset of parameters (lower-rank matrices) to reduce computational and memory overhead.\", \"score\": 0.93511593}, {\"title\": \"What is LoRA? | Low-rank adaptation - Cloudflare\", \"url\": \"https://www.cloudflare.com/learning/ai/what-is-lora/\", \"content\": \"Low-rank adaptation (LoRA) is a technique for quickly adapting machine learning models to new contexts. LoRA helps make huge and complicated machine learning models much more suited for specific uses. It works by adding lightweight pieces to the original model, as opposed to changing the entire model. LoRA helps developers quickly expand the use cases for the machine learning models they build.\\\\n\\\\n## What does LoRA do? [...] Low-rank adaptation (LoRA) is a method for rapidly adapting machine learning models to new use cases without retraining them. It enables developers to customize models for specific contexts. LoRA works by appending a lightweight addition, called a low-rank matrix, to the original model. This matrix tweaks the outputs of the model, similar to how a piece of colored translucent plastic can quickly shift the color of a spotlight.\\\\n\\\\n#### What is a low-rank matrix in LoRA? [...] In low-rank adaptation (LoRA), a low-rank matrix is a small, computationally efficient matrix (or array of numbers) added to a machine learning model. It allows for targeted adaptation of the model’s outputs.\\\\n\\\\n#### What is lightweight model modification in LoRA?\\\\n\\\\nLightweight model modification means adding small, changeable components to an existing machine learning model. This makes updates faster and uses far fewer computational resources compared to retraining the whole model.\", \"score\": 0.9255605}, {\"title\": \"LoRA - Hugging Face\", \"url\": \"https://huggingface.co/docs/diffusers/main/en/training/lora\", \"content\": \"LoRA (Low-Rank Adaptation of Large Language Models) is a popular and lightweight training technique that significantly reduces the number of trainable parameters. It works by inserting a smaller number of new weights into the model and only these are trained. This makes training with LoRA much faster, memory-efficient, and produces smaller model weights (a few hundred MBs), which are easier to store and share. LoRA can also be combined with other training techniques like DreamBooth to speedup\", \"score\": 0.88822687}, {\"title\": \"Understanding LoRA with a minimal example - Posit AI Blog\", \"url\": \"https://blogs.rstudio.com/tensorflow/posts/2023-06-22-understanding-lora/\", \"content\": \"LoRA (Low-Rank Adaptation) is a new technique for fine tuning large scale pre-trained\\\\nmodels. Such models are usually trained on general domain data, so as to have\\\\nthe maximum amount of data. In order to obtain better results in tasks like chatting\\\\nor question answering, these models can be further ‘fine-tuned’ or adapted on domain\\\\nspecific data. [...] # Understanding LoRA with a minimal example\\\\n\\\\nTorch\\\\nConcepts\\\\nR\\\\n\\\\nLoRA (Low Rank Adaptation) is a new technique for fine-tuning deep learning models that works by reducing the number of trainable parameters and enables efficient task switching. In this blog post we will talk about the key ideas behind LoRA in a very minimal torch example.\\\\n\\\\n--- [...] LoRA proposes using an approximation ΔΦ≈ΔΘ with |ΔΦ|<<|ΔΘ|.\\\\nThe observation is that neural nets have many dense layers performing matrix multiplication,\\\\nand while they typically have full-rank during pre-training, when adapting to a specific task\\\\nthe weight updates will have a low “intrinsic dimension”.\\\\n\\\\nA simple matrix decomposition is applied for each weight matrix update Δθ∈ΔΘ.\\\\nConsidering Δθi∈Rd×k the update for the ith weight\\\\nin the network, LoRA approximates it with:\\\\n\\\\nΔθi≈Δϕi=BA\", \"score\": 0.88420963}, {\"title\": \"Fine-Tuning Deep Learning Models with Low-Rank Adaptation ...\", \"url\": \"https://medium.com/@sandha.iitr/fine-tuning-deep-learning-models-with-low-rank-adaptation-lora-using-google-colab-dac1b4516f71\", \"content\": \"Low-rank adaptation (LORA) represents a significant advancement in the field of deep learning, offering an efficient and accessible way to fine-tune pre-trained models for new tasks. Through LORA\\\\\\\\_Playground, we aim to provide a practical and insightful resource for the machine learning community, empowering researchers and practitioners to leverage the full potential of LORA in their projects. [...] Welcome to an exciting journey through the world of model fine-tuning using Low-Rank Adaptation (LORA), a novel technique designed for the efficient adaptation of pre-trained deep-learning models to new tasks. This article delves into the essence of LORA, demonstrating its capabilities and practical applications through our dedicated GitHub repository, LORA\\\\\\\\_Playground.\\\\n\\\\nGithub: \\\\n\\\\nSample of using LORA to fine-tune RESNET on the Food dataset\\\\n\\\\n## Unlocking the Potential of LORA [...] Our GitHub repository, LORA\\\\\\\\_Playground, serves as a comprehensive resource for those interested in exploring LORA. It contains Jupyter notebooks with step-by-step implementations of LORA for fine-tuning pre-trained models on custom datasets, including:\", \"score\": 0.8805613}]', name='tavily_search_results_json', id='1a53eb1e-763d-4588-9e92-276bf44f5eb9', tool_call_id='call_2Sx8VTCjemSs5gufRDYLzNH0', artifact={'query': 'LoRA machine learning', 'follow_up_questions': None, 'answer': None, 'images': [], 'results': [{'url': 'https://www.ibm.com/think/topics/lora', 'title': 'What is LoRA (Low-Rank Adaption)? - IBM', 'content': 'Low-rank adaptation (LoRA) is a technique used to adapt machine learning models to new contexts. It can adapt large models to specific uses by adding lightweight pieces to the original model rather than changing the entire model. A data scientist can quickly expand the ways that a model can be used rather than requiring them to build an entirely new model. [...] LoRA adds low-rank matrices to the frozen original machine learning model. The low-rank matrices are updated through gradient descent during fine-tuning, without modifying the weights of the base model. These matrices contain new weights to apply to the model when generating results. The multiplied change matrix is added to the base model weights to get the final fine-tuned model. This process alters the outputs that the model produces with minimal computing power and training time. [...] LoRA leverages the concept of lower-rank matrices to make the model training process extremely efficient and fast. Traditionally fine-tuning LLMs requires adjusting the entire model. LoRA focuses on modifying a smaller subset of parameters (lower-rank matrices) to reduce computational and memory overhead.', 'score': 0.93511593, 'raw_content': None}, {'url': 'https://www.cloudflare.com/learning/ai/what-is-lora/', 'title': 'What is LoRA? | Low-rank adaptation - Cloudflare', 'content': 'Low-rank adaptation (LoRA) is a technique for quickly adapting machine learning models to new contexts. LoRA helps make huge and complicated machine learning models much more suited for specific uses. It works by adding lightweight pieces to the original model, as opposed to changing the entire model. LoRA helps developers quickly expand the use cases for the machine learning models they build.\\n\\n## What does LoRA do? [...] Low-rank adaptation (LoRA) is a method for rapidly adapting machine learning models to new use cases without retraining them. It enables developers to customize models for specific contexts. LoRA works by appending a lightweight addition, called a low-rank matrix, to the original model. This matrix tweaks the outputs of the model, similar to how a piece of colored translucent plastic can quickly shift the color of a spotlight.\\n\\n#### What is a low-rank matrix in LoRA? [...] In low-rank adaptation (LoRA), a low-rank matrix is a small, computationally efficient matrix (or array of numbers) added to a machine learning model. It allows for targeted adaptation of the model’s outputs.\\n\\n#### What is lightweight model modification in LoRA?\\n\\nLightweight model modification means adding small, changeable components to an existing machine learning model. This makes updates faster and uses far fewer computational resources compared to retraining the whole model.', 'score': 0.9255605, 'raw_content': None}, {'url': 'https://huggingface.co/docs/diffusers/main/en/training/lora', 'title': 'LoRA - Hugging Face', 'content': 'LoRA (Low-Rank Adaptation of Large Language Models) is a popular and lightweight training technique that significantly reduces the number of trainable parameters. It works by inserting a smaller number of new weights into the model and only these are trained. This makes training with LoRA much faster, memory-efficient, and produces smaller model weights (a few hundred MBs), which are easier to store and share. LoRA can also be combined with other training techniques like DreamBooth to speedup', 'score': 0.88822687, 'raw_content': None}, {'url': 'https://blogs.rstudio.com/tensorflow/posts/2023-06-22-understanding-lora/', 'title': 'Understanding LoRA with a minimal example - Posit AI Blog', 'content': 'LoRA (Low-Rank Adaptation) is a new technique for fine tuning large scale pre-trained\\nmodels. Such models are usually trained on general domain data, so as to have\\nthe maximum amount of data. In order to obtain better results in tasks like chatting\\nor question answering, these models can be further ‘fine-tuned’ or adapted on domain\\nspecific data. [...] # Understanding LoRA with a minimal example\\n\\nTorch\\nConcepts\\nR\\n\\nLoRA (Low Rank Adaptation) is a new technique for fine-tuning deep learning models that works by reducing the number of trainable parameters and enables efficient task switching. In this blog post we will talk about the key ideas behind LoRA in a very minimal torch example.\\n\\n--- [...] LoRA proposes using an approximation ΔΦ≈ΔΘ with |ΔΦ|<<|ΔΘ|.\\nThe observation is that neural nets have many dense layers performing matrix multiplication,\\nand while they typically have full-rank during pre-training, when adapting to a specific task\\nthe weight updates will have a low “intrinsic dimension”.\\n\\nA simple matrix decomposition is applied for each weight matrix update Δθ∈ΔΘ.\\nConsidering Δθi∈Rd×k the update for the ith weight\\nin the network, LoRA approximates it with:\\n\\nΔθi≈Δϕi=BA', 'score': 0.88420963, 'raw_content': None}, {'url': 'https://medium.com/@sandha.iitr/fine-tuning-deep-learning-models-with-low-rank-adaptation-lora-using-google-colab-dac1b4516f71', 'title': 'Fine-Tuning Deep Learning Models with Low-Rank Adaptation ...', 'content': 'Low-rank adaptation (LORA) represents a significant advancement in the field of deep learning, offering an efficient and accessible way to fine-tune pre-trained models for new tasks. Through LORA\\\\_Playground, we aim to provide a practical and insightful resource for the machine learning community, empowering researchers and practitioners to leverage the full potential of LORA in their projects. [...] Welcome to an exciting journey through the world of model fine-tuning using Low-Rank Adaptation (LORA), a novel technique designed for the efficient adaptation of pre-trained deep-learning models to new tasks. This article delves into the essence of LORA, demonstrating its capabilities and practical applications through our dedicated GitHub repository, LORA\\\\_Playground.\\n\\nGithub: \\n\\nSample of using LORA to fine-tune RESNET on the Food dataset\\n\\n## Unlocking the Potential of LORA [...] Our GitHub repository, LORA\\\\_Playground, serves as a comprehensive resource for those interested in exploring LORA. It contains Jupyter notebooks with step-by-step implementations of LORA for fine-tuning pre-trained models on custom datasets, including:', 'score': 0.8805613, 'raw_content': None}], 'response_time': 2.9, 'request_id': 'be2fb76f-68cf-4e1e-9115-98e90234d64d'}), ToolMessage(content='[{\"title\": \"Tim Dettmers - AI2050 - Schmidt Sciences\", \"url\": \"https://ai2050.schmidtsciences.org/fellow/tim-dettmers/\", \"content\": \"Tim Dettmers is an Assistant Professor at Carnegie Mellon University and a Research Scientist at the Allen Institute for AI, and his research focuses on making foundation models, such as ChatGPT, accessible to researchers and practitioners by reducing their resource requirements. This involves developing novel compression and networking algorithms and building systems that allow for memory-efficient, fast, and cheap deep learning. He has won oral, spotlight, and best paper awards at conferences [...] such as ICLR and NeurIPS. He created the bitsandbytes library for efficient deep learning, which is growing at 2.2 million installations per month, and received Google Open Source and PyTorch Foundation awards. [...] Tim Dettmers\\\\n2024 Early Career Fellow\\\\n\\\\nAffiliation\\\\nAssistant Professor, Carnegie Mellon University\\\\nHard Problem\\\\nSolved the science and technological limitations and hard problems in current AI that are critical to enabling further breakthrough progress in AI leading to more powerful and useful AI capable of realizing the beneficial and exciting possibilities, including artificial general intelligence (AGI).\\\\n\\\\nTim Dettmers\\\\n2024 Early Career Fellow\", \"score\": 0.9245858}, {\"title\": \"Tim Dettmers - Assistant Professor, Machine learning - OpenReview\", \"url\": \"https://openreview.net/profile?id=~Tim_Dettmers2\", \"content\": \"# Tim Dettmers\\\\n\\\\n### Assistant Professor, Machine learning; Computer Science, Carnegie Mellon University\\\\n\\\\n### Researcher, Allen Institute for Artificial Intelligence\\\\n\\\\n Joined September 2019\\\\n\\\\n#### Names\\\\n\\\\nTim Dettmers (Preferred)\\\\n\\\\n Suggest Name\\\\n\\\\n#### Emails\\\\n\\\\n\\\\\\\\\\\\\\\\\\\\\\\\\\\\\\\\@gmail.com (Confirmed)\\\\n\\\\n, \\\\n\\\\n\\\\\\\\\\\\\\\\\\\\\\\\\\\\\\\\@cs.washington.edu (Confirmed)\\\\n\\\\n, \\\\n\\\\n\\\\\\\\\\\\\\\\\\\\\\\\\\\\\\\\@fb.com (Confirmed)\\\\n\\\\n, \\\\n\\\\n\\\\\\\\\\\\\\\\\\\\\\\\\\\\\\\\@allenai.org (Confirmed)\\\\n\\\\n, \\\\n\\\\n\\\\\\\\\\\\\\\\\\\\\\\\\\\\\\\\@cmu.edu (Confirmed)\\\\n\\\\n Suggest Email\\\\n\\\\n#### Personal Links\\\\n\\\\nHomepage\\\\n\\\\nGoogle Scholar\\\\n\\\\nDBLP\\\\n\\\\n Suggest URL [...] #### Career & Education History\\\\n\\\\nAssistant Professor\\\\n\\\\nMachine learning; Computer Science, Carnegie Mellon University (cmu.edu)\\\\n\\\\n2025 – Present\\\\n\\\\nResearcher\\\\n\\\\nAllen Institute for Artificial Intelligence(allenai.org)\\\\n\\\\n2024 – Present\\\\n\\\\nPhD student\\\\n\\\\nComputer Science, University of Washington (cs.washington.edu)\\\\n\\\\n2018 – 2024\\\\n\\\\n Suggest Position\\\\n\\\\n#### Advisors, Relations & Conflicts\\\\n\\\\nPhD Advisor\\\\n\\\\nLuke Zettlemoyer\\\\n\\\\n2018 – 2023\\\\n\\\\nCoauthor\\\\n\\\\nSebastian Riedel\\\\n\\\\n2016 – 2018\\\\n\\\\n Suggest Relation\\\\n\\\\n#### Expertise [...] deep learning, quantization, agent systems, agents, model efficiency\\\\n\\\\n2025 – Present\\\\n\\\\nlanguage modeling, deep learning, knowledge graph embeddings, parallelization of neural networks\\\\n\\\\n2016 – 2024\\\\n\\\\n Suggest Expertise\", \"score\": 0.7352811}, {\"title\": \"CSE Faculty Candidate Seminar - Tim Dettmers\", \"url\": \"https://cse.gatech.edu/events/2024/02/20/cse-faculty-candidate-seminar-tim-dettmers\", \"content\": \"Skip to main navigation\\\\nSkip to main content\\\\n\\\\n## School of Computational Science and Engineering\\\\n\\\\n### College of Computing\\\\n\\\\n## Breadcrumb\\\\n\\\\n1. Home\\\\n2. Events\\\\n\\\\n## Upcoming Events\\\\n\\\\n# CSE Faculty Candidate Seminar - Tim Dettmers\\\\n\\\\nName: Tim Dettmers, Ph.D. student at University of Washington\\\\n\\\\nDate:Tuesday, February 20, 2024 at 11:00 am\\\\n\\\\nLocation: Coda Building, Second Floor, Room 230 (Google Maps link)\\\\n\\\\nLink:The recording of this in-person seminar will be uploaded to CSE\\'s MediaSpace [...] Bio:Tim Dettmers’s research focuses on making foundation models, such as ChatGPT, accessible to researchers and practitioners by reducing their resource requirements. This involves developing novel compression and networking algorithms and building systems that allow for memory-efficient, fast, and cheap deep learning. These methods enable many more people to use, adapt, or train foundation models without affecting the quality of AI predictions or generations. He is a PhD candidate at the [...] University of Washington and has won oral, spotlight, and best paper awards at conferences such as ICLR and NeurIPS. He created the bitsandbytes library for efficient deep learning, which is growing at 1.4 million installations per month and received Google Open Source and PyTorch Foundation awards.\", \"score\": 0.7283819}, {\"title\": \"Tim Dettmers | Carnegie Mellon University Computer Science ...\", \"url\": \"https://www.csd.cs.cmu.edu/people/faculty/tim-dettmers\", \"content\": \"Home\\\\n\\\\n## Main navigation\\\\n\\\\n### Back to Main Menu\\\\n\\\\n### About Main page\\\\n\\\\n### Back to Main Menu\\\\n\\\\n### Admissions Main page\\\\n\\\\n### Back to Main Menu\\\\n\\\\n### Academics Main page\\\\n\\\\n### Back to Main Menu\\\\n\\\\n### People Main page\\\\n\\\\n### Back to Main Menu\\\\n\\\\n### Research Main page\\\\n\\\\n## Breadcrumb\\\\n\\\\n# Tim Dettmers\\\\n\\\\nTim Dettmers\\\\n\\\\nAssistant Professor\\\\n\\\\nGoogle Scholars Link\\\\n\\\\nOffice\\\\n8133\\\\nGates and Hillman Centers\\\\n\\\\nEmail\\\\ndettmers@cmu.edu\\\\n\\\\nDepartment  \\\\nMachine Learning Department  \\\\nComputer Science Department [...] Tim Dettmers\\' work focuses on making foundation models, such as ChatGPT, accessible to researchers and practitioners by reducing their resource requirements. His main focus is to develop open-source agent systems that are competitive with closed-weight agents and can be run on consumer hardware, such as laptops. His research won oral, spotlight, and best paper awards at conferences such as ICLR and NeurIPS and was awarded the Block Award and Madrona Prize. He created the bitsandbytes [...] Research Interests  \\\\nArtificial Intelligence  \\\\nMachine Learning\\\\n\\\\n## Biography\", \"score\": 0.69845337}, {\"title\": \"Tim Dettmers — Making deep learning accessible.\", \"url\": \"https://timdettmers.com/\", \"content\": \"When I attended NAACL, I wanted to do a little test. I had two pitches for my LLM.int8() paper. One pitch is about how I use advanced quantization methods to achieve no performance degradation transformer inference at scale that makes large models more accessible. The other pitch talks about emergent outliers in transformers and how they radically change what transformers learn and how they function. [...] Identity Perspective, the Stability Perspective, and the Variability Perspective. [...] ## Skip links\\\\n\\\\n Skip to primary navigation\\\\n Skip to content\\\\n Skip to primary sidebar\\\\n\\\\n# Tim Dettmers\\\\n\\\\nMaking deep learning accessible.\\\\n\\\\n## Main navigation\\\\n\\\\n## Which GPU(s) to Get for Deep Learning: My Experience and Advice for Using GPUs in Deep Learning\\\\n\\\\nby Tim Dettmers 1,665 Comments\", \"score\": 0.50476116}]', name='tavily_search_results_json', id='8056f2e8-43c1-4f63-8975-216b520c1f05', tool_call_id='call_RpW1uMIFltVKUtHZ7iNU8izn', artifact={'query': 'Tim Dettmers', 'follow_up_questions': None, 'answer': None, 'images': [], 'results': [{'url': 'https://ai2050.schmidtsciences.org/fellow/tim-dettmers/', 'title': 'Tim Dettmers - AI2050 - Schmidt Sciences', 'content': 'Tim Dettmers is an Assistant Professor at Carnegie Mellon University and a Research Scientist at the Allen Institute for AI, and his research focuses on making foundation models, such as ChatGPT, accessible to researchers and practitioners by reducing their resource requirements. This involves developing novel compression and networking algorithms and building systems that allow for memory-efficient, fast, and cheap deep learning. He has won oral, spotlight, and best paper awards at conferences [...] such as ICLR and NeurIPS. He created the bitsandbytes library for efficient deep learning, which is growing at 2.2 million installations per month, and received Google Open Source and PyTorch Foundation awards. [...] Tim Dettmers\\n2024 Early Career Fellow\\n\\nAffiliation\\nAssistant Professor, Carnegie Mellon University\\nHard Problem\\nSolved the science and technological limitations and hard problems in current AI that are critical to enabling further breakthrough progress in AI leading to more powerful and useful AI capable of realizing the beneficial and exciting possibilities, including artificial general intelligence (AGI).\\n\\nTim Dettmers\\n2024 Early Career Fellow', 'score': 0.9245858, 'raw_content': None}, {'url': 'https://openreview.net/profile?id=~Tim_Dettmers2', 'title': 'Tim Dettmers - Assistant Professor, Machine learning - OpenReview', 'content': '# Tim Dettmers\\n\\n### Assistant Professor, Machine learning; Computer Science, Carnegie Mellon University\\n\\n### Researcher, Allen Institute for Artificial Intelligence\\n\\n Joined September 2019\\n\\n#### Names\\n\\nTim Dettmers (Preferred)\\n\\n Suggest Name\\n\\n#### Emails\\n\\n\\\\\\\\\\\\\\\\@gmail.com (Confirmed)\\n\\n, \\n\\n\\\\\\\\\\\\\\\\@cs.washington.edu (Confirmed)\\n\\n, \\n\\n\\\\\\\\\\\\\\\\@fb.com (Confirmed)\\n\\n, \\n\\n\\\\\\\\\\\\\\\\@allenai.org (Confirmed)\\n\\n, \\n\\n\\\\\\\\\\\\\\\\@cmu.edu (Confirmed)\\n\\n Suggest Email\\n\\n#### Personal Links\\n\\nHomepage\\n\\nGoogle Scholar\\n\\nDBLP\\n\\n Suggest URL [...] #### Career & Education History\\n\\nAssistant Professor\\n\\nMachine learning; Computer Science, Carnegie Mellon University (cmu.edu)\\n\\n2025 – Present\\n\\nResearcher\\n\\nAllen Institute for Artificial Intelligence(allenai.org)\\n\\n2024 – Present\\n\\nPhD student\\n\\nComputer Science, University of Washington (cs.washington.edu)\\n\\n2018 – 2024\\n\\n Suggest Position\\n\\n#### Advisors, Relations & Conflicts\\n\\nPhD Advisor\\n\\nLuke Zettlemoyer\\n\\n2018 – 2023\\n\\nCoauthor\\n\\nSebastian Riedel\\n\\n2016 – 2018\\n\\n Suggest Relation\\n\\n#### Expertise [...] deep learning, quantization, agent systems, agents, model efficiency\\n\\n2025 – Present\\n\\nlanguage modeling, deep learning, knowledge graph embeddings, parallelization of neural networks\\n\\n2016 – 2024\\n\\n Suggest Expertise', 'score': 0.7352811, 'raw_content': None}, {'url': 'https://cse.gatech.edu/events/2024/02/20/cse-faculty-candidate-seminar-tim-dettmers', 'title': 'CSE Faculty Candidate Seminar - Tim Dettmers', 'content': \"Skip to main navigation\\nSkip to main content\\n\\n## School of Computational Science and Engineering\\n\\n### College of Computing\\n\\n## Breadcrumb\\n\\n1. Home\\n2. Events\\n\\n## Upcoming Events\\n\\n# CSE Faculty Candidate Seminar - Tim Dettmers\\n\\nName: Tim Dettmers, Ph.D. student at University of Washington\\n\\nDate:Tuesday, February 20, 2024 at 11:00 am\\n\\nLocation: Coda Building, Second Floor, Room 230 (Google Maps link)\\n\\nLink:The recording of this in-person seminar will be uploaded to CSE's MediaSpace [...] Bio:Tim Dettmers’s research focuses on making foundation models, such as ChatGPT, accessible to researchers and practitioners by reducing their resource requirements. This involves developing novel compression and networking algorithms and building systems that allow for memory-efficient, fast, and cheap deep learning. These methods enable many more people to use, adapt, or train foundation models without affecting the quality of AI predictions or generations. He is a PhD candidate at the [...] University of Washington and has won oral, spotlight, and best paper awards at conferences such as ICLR and NeurIPS. He created the bitsandbytes library for efficient deep learning, which is growing at 1.4 million installations per month and received Google Open Source and PyTorch Foundation awards.\", 'score': 0.7283819, 'raw_content': None}, {'url': 'https://www.csd.cs.cmu.edu/people/faculty/tim-dettmers', 'title': 'Tim Dettmers | Carnegie Mellon University Computer Science ...', 'content': \"Home\\n\\n## Main navigation\\n\\n### Back to Main Menu\\n\\n### About Main page\\n\\n### Back to Main Menu\\n\\n### Admissions Main page\\n\\n### Back to Main Menu\\n\\n### Academics Main page\\n\\n### Back to Main Menu\\n\\n### People Main page\\n\\n### Back to Main Menu\\n\\n### Research Main page\\n\\n## Breadcrumb\\n\\n# Tim Dettmers\\n\\nTim Dettmers\\n\\nAssistant Professor\\n\\nGoogle Scholars Link\\n\\nOffice\\n8133\\nGates and Hillman Centers\\n\\nEmail\\ndettmers@cmu.edu\\n\\nDepartment  \\nMachine Learning Department  \\nComputer Science Department [...] Tim Dettmers' work focuses on making foundation models, such as ChatGPT, accessible to researchers and practitioners by reducing their resource requirements. His main focus is to develop open-source agent systems that are competitive with closed-weight agents and can be run on consumer hardware, such as laptops. His research won oral, spotlight, and best paper awards at conferences such as ICLR and NeurIPS and was awarded the Block Award and Madrona Prize. He created the bitsandbytes [...] Research Interests  \\nArtificial Intelligence  \\nMachine Learning\\n\\n## Biography\", 'score': 0.69845337, 'raw_content': None}, {'url': 'https://timdettmers.com/', 'title': 'Tim Dettmers — Making deep learning accessible.', 'content': 'When I attended NAACL, I wanted to do a little test. I had two pitches for my LLM.int8() paper. One pitch is about how I use advanced quantization methods to achieve no performance degradation transformer inference at scale that makes large models more accessible. The other pitch talks about emergent outliers in transformers and how they radically change what transformers learn and how they function. [...] Identity Perspective, the Stability Perspective, and the Variability Perspective. [...] ## Skip links\\n\\n Skip to primary navigation\\n Skip to content\\n Skip to primary sidebar\\n\\n# Tim Dettmers\\n\\nMaking deep learning accessible.\\n\\n## Main navigation\\n\\n## Which GPU(s) to Get for Deep Learning: My Experience and Advice for Using GPUs in Deep Learning\\n\\nby Tim Dettmers 1,665 Comments', 'score': 0.50476116, 'raw_content': None}], 'response_time': 3.71, 'request_id': '92382a4d-8ddf-465b-a81a-24bf633c99ec'}), ToolMessage(content='[{\"title\": \"What is an attention mechanism? | IBM\", \"url\": \"https://www.ibm.com/think/topics/attention-mechanism\", \"content\": \"An attention mechanism is a machine learning technique that directs deep learning models to prioritize (or attend to) the most relevant parts of input data.\", \"score\": 0.98591}, {\"title\": \"Attention Mechanisms in Deep Learning: Enhancing Model ...\", \"url\": \"https://medium.com/@zhonghong9998/attention-mechanisms-in-deep-learning-enhancing-model-performance-32a91006092a\", \"content\": \"import tensorflow as tfimport numpy as np# Define the input and target language datainput_data = [\\\\\"I love deep learning\\\\\", \\\\\"Machine translation is fascinating\\\\\", \\\\\"Attention mechanisms improve models\\\\\"]target_data = [\\\\\"J\\'adore l\\'apprentissage profond\\\\\", \\\\\"La traduction automatique est fascinante\\\\\", \\\\\"Les mécanismes d\\'attention améliorent les modèles\\\\\"]# Tokenize the datainput_tokenizer = tf.keras.layers.TextVectorization()input_tokenizer.adapt(input_data)target_tokenizer = tf.keras.layers.TextVectorization()target_tokenizer.adapt(target_data)# Create tokenized sequencesinput_sequences = input_tokenizer(input_data)target_sequences = target_tokenizer(target_data)# Define the model architectureembedding_dim = 256units = 1024# Encoderencoder_inputs = tf.keras.layers.Input(shape=(None,))encoder_embedding = tf.keras.layers.Embedding(input_tokenizer.vocabulary_size, embedding_dim)(encoder_inputs)encoder, encoder_state_h, encoder_state_c = tf.keras.layers.LSTM(units, return_state=True)(encoder_embedding)encoder_states = [encoder_state_h, encoder_state_c]# Decoderdecoder_inputs = tf.keras.layers.Input(shape=(None,))decoder_embedding = tf.keras.layers.Embedding(target_tokenizer.vocabulary_size, embedding_dim)(decoder_inputs)decoder_lstm = tf.keras.layers.LSTM(units, return_sequences=True, return_state=True)decoder_outputs, _, _ = decoder_lstm(decoder_embedding, initial_state=encoder_states)attention = tf.keras.layers.Attention()([decoder_outputs, encoder_outputs])decoder_concat = tf.keras.layers.Concatenate(axis=-1)([decoder_outputs, attention])decoder_dense = tf.keras.layers.Dense(target_tokenizer.vocabulary_size, activation=\\'softmax\\')(decoder_concat)# Create the modelmodel = tf.keras.models.Model([encoder_inputs, decoder_inputs], decoder_dense)# Compile the modelmodel.compile(optimizer=\\'adam\\', loss=\\'sparse_categorical_crossentropy\\', metrics=[\\'accuracy\\'])# Train the model (you would need a larger dataset for real training)model.fit([input_sequences, target_sequences[:, :-1]], target_sequences[:, 1:], epochs=50)# Translate a sample sentencedef translate(input_text):    input_seq = input_tokenizer([input_text])    target_seq = np.zeros((1, target_max_length))    target_seq[0, 0] = target_tokenizer.word_index[\\'<start>\\']        for i in range(1, target_max_length):        predicted = model.predict([input_seq, target_seq])        predicted_word_index = np.argmax(predicted[:, i-1, :])        target_seq[0, i] = predicted_word_index                if target_tokenizer.index_word[predicted_word_index] == \\'<end>\\':            break        translated_sentence = \\' \\'.join([target_tokenizer.index_word[i] for i in target_seq[0] if i not in [0]])    return translated_sentence# Example translationinput_text = \\\\\"I love deep learning\\\\\"translated_text = translate(input_text)print(\\\\\"Input:\\\\\", input_text)print(\\\\\"Translation:\\\\\", translated_text) import as import as\", \"score\": 0.98515}, {\"title\": \"Attention Mechanisms and Their Applications to Complex Systems\", \"url\": \"https://pmc.ncbi.nlm.nih.gov/articles/PMC7996841/\", \"content\": \"To apply the attention mechanism, it is necessary to break down the learning process into a sequence of attention-guided tasks. Then, due to its flexibility,\", \"score\": 0.98329}, {\"title\": \"Attention (machine learning) - Wikipedia\", \"url\": \"https://en.wikipedia.org/wiki/Attention_(machine_learning)\", \"content\": \"In machine learning, attention is a method that determines the importance of each component in a sequence relative to the other components in that sequence.\", \"score\": 0.98243}, {\"title\": \"What is Attention Mechanism? - H2O.ai\", \"url\": \"https://h2o.ai/wiki/attention-mechanism/\", \"content\": \"An attention mechanism is a technique used in machine learning and artificial intelligence to improve the performance of models by focusing on relevant information. H2O.ai users would be interested in an attention mechanism as it provides a powerful technique for improving model performance and capturing relevant information in complex datasets. Attention mechanisms can enhance the accuracy and interpretability of models, enabling H2O.ai users to make better predictions and gain insights from their data. Overall, attention mechanisms play a crucial role in machine learning and artificial intelligence by enabling models to focus on relevant information and improve their performance. H2O.ai users can benefit from incorporating attention mechanisms into their workflows to enhance the capabilities and outcomes of their machine-learning models.\", \"score\": 0.97449}]', name='tavily_search_results_json', id='9bc94c78-f6c3-4fdc-90d6-46a85de82d18', tool_call_id='call_iuhd8gIGkdXgfYsd5lP2m0RU', artifact={'query': 'Attention in machine learning', 'follow_up_questions': None, 'answer': None, 'images': [], 'results': [{'url': 'https://www.ibm.com/think/topics/attention-mechanism', 'title': 'What is an attention mechanism? | IBM', 'content': 'An attention mechanism is a machine learning technique that directs deep learning models to prioritize (or attend to) the most relevant parts of input data.', 'score': 0.98591, 'raw_content': None}, {'url': 'https://medium.com/@zhonghong9998/attention-mechanisms-in-deep-learning-enhancing-model-performance-32a91006092a', 'title': 'Attention Mechanisms in Deep Learning: Enhancing Model ...', 'content': 'import tensorflow as tfimport numpy as np# Define the input and target language datainput_data = [\"I love deep learning\", \"Machine translation is fascinating\", \"Attention mechanisms improve models\"]target_data = [\"J\\'adore l\\'apprentissage profond\", \"La traduction automatique est fascinante\", \"Les mécanismes d\\'attention améliorent les modèles\"]# Tokenize the datainput_tokenizer = tf.keras.layers.TextVectorization()input_tokenizer.adapt(input_data)target_tokenizer = tf.keras.layers.TextVectorization()target_tokenizer.adapt(target_data)# Create tokenized sequencesinput_sequences = input_tokenizer(input_data)target_sequences = target_tokenizer(target_data)# Define the model architectureembedding_dim = 256units = 1024# Encoderencoder_inputs = tf.keras.layers.Input(shape=(None,))encoder_embedding = tf.keras.layers.Embedding(input_tokenizer.vocabulary_size, embedding_dim)(encoder_inputs)encoder, encoder_state_h, encoder_state_c = tf.keras.layers.LSTM(units, return_state=True)(encoder_embedding)encoder_states = [encoder_state_h, encoder_state_c]# Decoderdecoder_inputs = tf.keras.layers.Input(shape=(None,))decoder_embedding = tf.keras.layers.Embedding(target_tokenizer.vocabulary_size, embedding_dim)(decoder_inputs)decoder_lstm = tf.keras.layers.LSTM(units, return_sequences=True, return_state=True)decoder_outputs, _, _ = decoder_lstm(decoder_embedding, initial_state=encoder_states)attention = tf.keras.layers.Attention()([decoder_outputs, encoder_outputs])decoder_concat = tf.keras.layers.Concatenate(axis=-1)([decoder_outputs, attention])decoder_dense = tf.keras.layers.Dense(target_tokenizer.vocabulary_size, activation=\\'softmax\\')(decoder_concat)# Create the modelmodel = tf.keras.models.Model([encoder_inputs, decoder_inputs], decoder_dense)# Compile the modelmodel.compile(optimizer=\\'adam\\', loss=\\'sparse_categorical_crossentropy\\', metrics=[\\'accuracy\\'])# Train the model (you would need a larger dataset for real training)model.fit([input_sequences, target_sequences[:, :-1]], target_sequences[:, 1:], epochs=50)# Translate a sample sentencedef translate(input_text):    input_seq = input_tokenizer([input_text])    target_seq = np.zeros((1, target_max_length))    target_seq[0, 0] = target_tokenizer.word_index[\\'<start>\\']        for i in range(1, target_max_length):        predicted = model.predict([input_seq, target_seq])        predicted_word_index = np.argmax(predicted[:, i-1, :])        target_seq[0, i] = predicted_word_index                if target_tokenizer.index_word[predicted_word_index] == \\'<end>\\':            break        translated_sentence = \\' \\'.join([target_tokenizer.index_word[i] for i in target_seq[0] if i not in [0]])    return translated_sentence# Example translationinput_text = \"I love deep learning\"translated_text = translate(input_text)print(\"Input:\", input_text)print(\"Translation:\", translated_text) import as import as', 'score': 0.98515, 'raw_content': None}, {'url': 'https://pmc.ncbi.nlm.nih.gov/articles/PMC7996841/', 'title': 'Attention Mechanisms and Their Applications to Complex Systems', 'content': 'To apply the attention mechanism, it is necessary to break down the learning process into a sequence of attention-guided tasks. Then, due to its flexibility,', 'score': 0.98329, 'raw_content': None}, {'url': 'https://en.wikipedia.org/wiki/Attention_(machine_learning)', 'title': 'Attention (machine learning) - Wikipedia', 'content': 'In machine learning, attention is a method that determines the importance of each component in a sequence relative to the other components in that sequence.', 'score': 0.98243, 'raw_content': None}, {'url': 'https://h2o.ai/wiki/attention-mechanism/', 'title': 'What is Attention Mechanism? - H2O.ai', 'content': 'An attention mechanism is a technique used in machine learning and artificial intelligence to improve the performance of models by focusing on relevant information. H2O.ai users would be interested in an attention mechanism as it provides a powerful technique for improving model performance and capturing relevant information in complex datasets. Attention mechanisms can enhance the accuracy and interpretability of models, enabling H2O.ai users to make better predictions and gain insights from their data. Overall, attention mechanisms play a crucial role in machine learning and artificial intelligence by enabling models to focus on relevant information and improve their performance. H2O.ai users can benefit from incorporating attention mechanisms into their workflows to enhance the capabilities and outcomes of their machine-learning models.', 'score': 0.97449, 'raw_content': None}], 'response_time': 3.05, 'request_id': 'e59153de-105b-473d-8dbe-b03daca537c3'})]\n",
            "\n",
            "\n",
            "\n",
            "Receiving update from node: 'agent'\n",
            "[AIMessage(content='LoRA (Low-Rank Adaptation) is a technique used in machine learning to efficiently adapt large pre-trained models to new tasks or contexts. Instead of retraining the entire model, LoRA adds lightweight, low-rank matrices to the original model. These matrices are updated during fine-tuning, allowing the model to adapt with minimal computational resources and training time. This approach makes it easier and faster to customize large models for specific applications.\\n\\nTim Dettmers is an Assistant Professor at Carnegie Mellon University and a Research Scientist at the Allen Institute for AI. His research focuses on making foundation models like ChatGPT more accessible by reducing their resource requirements. He develops algorithms for model compression, networking, and systems that enable memory-efficient, fast, and affordable deep learning. He is also known for creating the bitsandbytes library, which is widely used for efficient deep learning, and has received multiple awards for his work.\\n\\nAttention in machine learning is a mechanism that allows models to focus on the most relevant parts of the input data. It helps improve the performance of models, especially in tasks involving sequences like language translation or text summarization. Attention mechanisms dynamically weigh different parts of the input, enabling the model to prioritize important information and ignore less relevant details.', additional_kwargs={'refusal': None}, response_metadata={'token_usage': {'completion_tokens': 249, 'prompt_tokens': 4389, 'total_tokens': 4638, 'completion_tokens_details': {'accepted_prediction_tokens': 0, 'audio_tokens': 0, 'reasoning_tokens': 0, 'rejected_prediction_tokens': 0}, 'prompt_tokens_details': {'audio_tokens': 0, 'cached_tokens': 0}}, 'model_name': 'gpt-4.1-nano-2025-04-14', 'system_fingerprint': 'fp_7c233bf9d1', 'id': 'chatcmpl-CIhnKQc96BAnhyjeW0AcwxMqJGpvL', 'service_tier': 'default', 'finish_reason': 'stop', 'logprobs': None}, id='run--c47cfb68-7e7b-4ea5-9f80-6416a874ebc8-0', usage_metadata={'input_tokens': 4389, 'output_tokens': 249, 'total_tokens': 4638, 'input_token_details': {'audio': 0, 'cache_read': 0}, 'output_token_details': {'audio': 0, 'reasoning': 0}})]\n",
            "\n",
            "\n",
            "\n"
          ]
        }
      ],
      "source": [
        "inputs = {\"messages\" : [HumanMessage(content=\"Related to machine learning, what is LoRA? Also, who is Tim Dettmers? Also, what is Attention?\")]}\n",
        "\n",
        "async for chunk in agent_with_helpfulness_check.astream(inputs, stream_mode=\"updates\"):\n",
        "    for node, values in chunk.items():\n",
        "        print(f\"Receiving update from node: '{node}'\")\n",
        "        print(values[\"messages\"])\n",
        "        print(\"\\n\\n\")"
      ]
    },
    {
      "cell_type": "markdown",
      "metadata": {
        "id": "yVmZPs6lnpsM"
      },
      "source": [
        "### Task 4: LangGraph for the \"Patterns\" of GenAI\n",
        "\n",
        "Let's ask our system about the 4 patterns of Generative AI:\n",
        "\n",
        "1. Prompt Engineering\n",
        "2. RAG\n",
        "3. Fine-tuning\n",
        "4. Agents"
      ]
    },
    {
      "cell_type": "code",
      "execution_count": 70,
      "metadata": {
        "id": "ZoLl7GlXoae-"
      },
      "outputs": [],
      "source": [
        "patterns = [\"prompt engineering\", \"RAG\", \"fine-tuning\", \"LLM-based agents\"]"
      ]
    },
    {
      "cell_type": "code",
      "execution_count": null,
      "metadata": {
        "colab": {
          "base_uri": "https://localhost:8080/"
        },
        "id": "Zkh0YJuCp3Zl",
        "outputId": "d847426e-71b3-47e6-b1ae-351a78d68d1e"
      },
      "outputs": [],
      "source": [
        "for pattern in patterns:\n",
        "  what_is_string = f\"What is {pattern} and when did it break onto the scene??\"\n",
        "  inputs = {\"messages\" : [HumanMessage(content=what_is_string)]}\n",
        "  messages = agent_with_helpfulness_check.invoke(inputs)\n",
        "  print(messages[\"messages\"][-1].content)\n",
        "  print(\"\\n\\n\")"
      ]
    }
  ],
  "metadata": {
    "colab": {
      "provenance": []
    },
    "kernelspec": {
      "display_name": ".venv",
      "language": "python",
      "name": "python3"
    },
    "language_info": {
      "codemirror_mode": {
        "name": "ipython",
        "version": 3
      },
      "file_extension": ".py",
      "mimetype": "text/x-python",
      "name": "python",
      "nbconvert_exporter": "python",
      "pygments_lexer": "ipython3",
      "version": "3.13.4"
    }
  },
  "nbformat": 4,
  "nbformat_minor": 0
}
